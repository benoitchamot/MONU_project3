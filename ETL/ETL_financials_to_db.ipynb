{
 "cells": [
  {
   "cell_type": "markdown",
   "metadata": {},
   "source": [
    "# ETL - Financial Information\n",
    "This notebook is used to extract and transform the financial data (gross revenue and budget) from the CSV files in `/Datasets` and load them into the SQLite database."
   ]
  },
  {
   "cell_type": "code",
   "execution_count": 1,
   "metadata": {},
   "outputs": [],
   "source": [
    "# Dependencies\n",
    "import pandas as pd\n",
    "from pathlib import Path\n",
    "\n",
    "# Import SQL Alchemy\n",
    "from sqlalchemy import create_engine\n",
    "\n",
    "# Import and establish Base for which classes will be constructed \n",
    "import sqlalchemy\n",
    "from sqlalchemy.ext.declarative import declarative_base\n",
    "from sqlalchemy.orm import Session\n",
    "from sqlalchemy import create_engine, func\n",
    "from sqlalchemy import desc\n",
    "\n",
    "# Import modules to declare columns and column data types\n",
    "from sqlalchemy import Column, Integer, String, Float, Boolean"
   ]
  },
  {
   "cell_type": "markdown",
   "metadata": {},
   "source": [
    "## Extract movies datasets"
   ]
  },
  {
   "cell_type": "code",
   "execution_count": 8,
   "metadata": {},
   "outputs": [],
   "source": [
    "Movies = Path(\"../Datasets/movies.csv\")\n",
    "movies_df = pd.read_csv(Movies)\n",
    "\n",
    "Omdb = Path(\"../Datasets/omdb.csv\")\n",
    "omdb_df = pd.read_csv(Omdb)"
   ]
  },
  {
   "cell_type": "code",
   "execution_count": 9,
   "metadata": {},
   "outputs": [
    {
     "data": {
      "text/plain": [
       "Index(['movieid', 'title', 'mpaa_rating', 'budget', 'gross', 'release_date',\n",
       "       'genre', 'runtime', 'rating', 'rating_count', 'summary'],\n",
       "      dtype='object')"
      ]
     },
     "execution_count": 9,
     "metadata": {},
     "output_type": "execute_result"
    }
   ],
   "source": [
    "movies_df.columns"
   ]
  },
  {
   "cell_type": "markdown",
   "metadata": {},
   "source": [
    "## Transform"
   ]
  },
  {
   "cell_type": "code",
   "execution_count": 10,
   "metadata": {},
   "outputs": [],
   "source": [
    "# Use subset of datasets columns\n",
    "movies_df = movies_df[['movieid', 'title', 'mpaa_rating', 'genre','budget', 'gross','rating',]]\n",
    "omdb_df = omdb_df[['Title',  'Genre',  'Country', 'Awards','DVD']]\n",
    "\n",
    "# Rename column\n",
    "movies_df = movies_df.rename(columns={\"title\":\"Title\"})\n",
    "\n",
    "# Merge dataset\n",
    "FirstQuestMerged = pd.merge(omdb_df, movies_df, on=\"Title\", how=\"inner\")\n",
    "FirstQuestMerged[\"ROI\"] = (FirstQuestMerged [\"gross\"] - FirstQuestMerged [\"budget\"]) / FirstQuestMerged [\"budget\"]"
   ]
  },
  {
   "cell_type": "code",
   "execution_count": 11,
   "metadata": {},
   "outputs": [
    {
     "data": {
      "text/html": [
       "<div>\n",
       "<style scoped>\n",
       "    .dataframe tbody tr th:only-of-type {\n",
       "        vertical-align: middle;\n",
       "    }\n",
       "\n",
       "    .dataframe tbody tr th {\n",
       "        vertical-align: top;\n",
       "    }\n",
       "\n",
       "    .dataframe thead th {\n",
       "        text-align: right;\n",
       "    }\n",
       "</style>\n",
       "<table border=\"1\" class=\"dataframe\">\n",
       "  <thead>\n",
       "    <tr style=\"text-align: right;\">\n",
       "      <th></th>\n",
       "      <th>movieid</th>\n",
       "      <th>Title</th>\n",
       "      <th>budget</th>\n",
       "      <th>gross</th>\n",
       "      <th>ROI</th>\n",
       "      <th>rating</th>\n",
       "    </tr>\n",
       "  </thead>\n",
       "  <tbody>\n",
       "    <tr>\n",
       "      <th>0</th>\n",
       "      <td>1</td>\n",
       "      <td>Look Who's Talking</td>\n",
       "      <td>7500000</td>\n",
       "      <td>296000000</td>\n",
       "      <td>38.466667</td>\n",
       "      <td>5.9</td>\n",
       "    </tr>\n",
       "    <tr>\n",
       "      <th>1</th>\n",
       "      <td>2</td>\n",
       "      <td>Driving Miss Daisy</td>\n",
       "      <td>7500000</td>\n",
       "      <td>145793296</td>\n",
       "      <td>18.439106</td>\n",
       "      <td>7.4</td>\n",
       "    </tr>\n",
       "    <tr>\n",
       "      <th>2</th>\n",
       "      <td>3</td>\n",
       "      <td>Turner &amp; Hooch</td>\n",
       "      <td>13000000</td>\n",
       "      <td>71079915</td>\n",
       "      <td>4.467686</td>\n",
       "      <td>7.2</td>\n",
       "    </tr>\n",
       "    <tr>\n",
       "      <th>3</th>\n",
       "      <td>4</td>\n",
       "      <td>Born on the Fourth of July</td>\n",
       "      <td>14000000</td>\n",
       "      <td>161001698</td>\n",
       "      <td>10.500121</td>\n",
       "      <td>7.2</td>\n",
       "    </tr>\n",
       "    <tr>\n",
       "      <th>4</th>\n",
       "      <td>5</td>\n",
       "      <td>Field of Dreams</td>\n",
       "      <td>15000000</td>\n",
       "      <td>84431625</td>\n",
       "      <td>4.628775</td>\n",
       "      <td>7.5</td>\n",
       "    </tr>\n",
       "  </tbody>\n",
       "</table>\n",
       "</div>"
      ],
      "text/plain": [
       "   movieid                       Title    budget      gross        ROI  rating\n",
       "0        1          Look Who's Talking   7500000  296000000  38.466667     5.9\n",
       "1        2          Driving Miss Daisy   7500000  145793296  18.439106     7.4\n",
       "2        3              Turner & Hooch  13000000   71079915   4.467686     7.2\n",
       "3        4  Born on the Fourth of July  14000000  161001698  10.500121     7.2\n",
       "4        5             Field of Dreams  15000000   84431625   4.628775     7.5"
      ]
     },
     "execution_count": 11,
     "metadata": {},
     "output_type": "execute_result"
    }
   ],
   "source": [
    "FirstQuestMerged = FirstQuestMerged[['movieid','Title', 'budget', 'gross', 'ROI', 'rating']]\n",
    "FirstQuestMerged.head()"
   ]
  },
  {
   "cell_type": "code",
   "execution_count": 12,
   "metadata": {},
   "outputs": [
    {
     "data": {
      "text/plain": [
       "movieid      int64\n",
       "Title       object\n",
       "budget       int64\n",
       "gross        int64\n",
       "ROI        float64\n",
       "rating     float64\n",
       "dtype: object"
      ]
     },
     "execution_count": 12,
     "metadata": {},
     "output_type": "execute_result"
    }
   ],
   "source": [
    "FirstQuestMerged.dtypes"
   ]
  },
  {
   "cell_type": "markdown",
   "metadata": {},
   "source": [
    "## Load"
   ]
  },
  {
   "cell_type": "code",
   "execution_count": 40,
   "metadata": {},
   "outputs": [],
   "source": [
    "# Get Base\n",
    "Base = declarative_base()"
   ]
  },
  {
   "cell_type": "code",
   "execution_count": 41,
   "metadata": {},
   "outputs": [],
   "source": [
    "# Create Financials class\n",
    "class Financials(Base):\n",
    "    __tablename__ = 'financials'\n",
    "    movieid = Column(Integer, primary_key=True)\n",
    "    Title = Column(String)\n",
    "    budget = Column(Float)\n",
    "    gross = Column(Float)\n",
    "    rating = Column(Float)\n",
    "    ROI = Column(Float)"
   ]
  },
  {
   "cell_type": "code",
   "execution_count": 42,
   "metadata": {},
   "outputs": [],
   "source": [
    "# Create a connection to a SQLite database\n",
    "engine = create_engine('sqlite:///../Server/movies_db.sqlite')\n",
    "\n",
    "# Create the tables within the database\n",
    "Base.metadata.create_all(engine)\n",
    "\n",
    "# Start session\n",
    "session = Session(bind=engine)"
   ]
  },
  {
   "cell_type": "code",
   "execution_count": 44,
   "metadata": {},
   "outputs": [
    {
     "name": "stdout",
     "output_type": "stream",
     "text": [
      "621 rows ready for commit.\n"
     ]
    }
   ],
   "source": [
    "# Loop through movies DataFrame and retrieve data\n",
    "for index, row in FirstQuestMerged.iterrows():\n",
    "    Title = FirstQuestMerged.loc[index,'Title']\n",
    "    budget = FirstQuestMerged.loc[index,'budget']\n",
    "    gross = FirstQuestMerged.loc[index,'gross']\n",
    "    rating = FirstQuestMerged.loc[index,'rating']\n",
    "    ROI = FirstQuestMerged.loc[index,'ROI']\n",
    "    \n",
    "\n",
    "    # Add data to database\n",
    "    session.add(Financials(\n",
    "        Title = Title,\n",
    "        budget = budget,\n",
    "        gross = gross,\n",
    "        rating = rating,\n",
    "        ROI = ROI\n",
    "    ))\n",
    "\n",
    "print(f\"{len(FirstQuestMerged)} rows ready for commit.\")\n"
   ]
  },
  {
   "cell_type": "code",
   "execution_count": 45,
   "metadata": {},
   "outputs": [],
   "source": [
    "# Commit changes to session\n",
    "session.commit()"
   ]
  },
  {
   "cell_type": "code",
   "execution_count": 46,
   "metadata": {},
   "outputs": [],
   "source": [
    "# Close session\n",
    "session.close()"
   ]
  }
 ],
 "metadata": {
  "kernelspec": {
   "display_name": "dev",
   "language": "python",
   "name": "python3"
  },
  "language_info": {
   "codemirror_mode": {
    "name": "ipython",
    "version": 3
   },
   "file_extension": ".py",
   "mimetype": "text/x-python",
   "name": "python",
   "nbconvert_exporter": "python",
   "pygments_lexer": "ipython3",
   "version": "3.10.11"
  },
  "orig_nbformat": 4
 },
 "nbformat": 4,
 "nbformat_minor": 2
}
