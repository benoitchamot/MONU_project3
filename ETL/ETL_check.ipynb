{
 "cells": [
  {
   "cell_type": "markdown",
   "metadata": {},
   "source": [
    "# ETL check\n",
    "Use this notebook to make sure the database has been created correctly after running the ETL notebooks.\n",
    "\n",
    "Please refer to the README file to know how to properly run the ETL notebooks."
   ]
  },
  {
   "cell_type": "code",
   "execution_count": 27,
   "metadata": {},
   "outputs": [],
   "source": [
    "# Python SQL toolkit and Object Relational Mapper\n",
    "import sqlalchemy\n",
    "from sqlalchemy.ext.automap import automap_base\n",
    "from sqlalchemy.orm import Session\n",
    "from sqlalchemy import create_engine, func\n",
    "from sqlalchemy import desc"
   ]
  },
  {
   "cell_type": "markdown",
   "metadata": {},
   "source": [
    "## Step 1: Check connection to the database"
   ]
  },
  {
   "cell_type": "code",
   "execution_count": 28,
   "metadata": {},
   "outputs": [
    {
     "name": "stdout",
     "output_type": "stream",
     "text": [
      "Database found.\n",
      "Model created.\n",
      "Tables reflected.\n",
      "Tables reflected.\n",
      "---------\n",
      "[PASSED] Database found and session established\n"
     ]
    }
   ],
   "source": [
    "try:\n",
    "    # create engine to hawaii.sqlite\n",
    "    engine = create_engine(\"sqlite:///../Server/movies_db.sqlite\")\n",
    "    print('Database found.')\n",
    "\n",
    "    # reflect an existing database into a new model\n",
    "    Base = automap_base()\n",
    "    print('Model created.')\n",
    "\n",
    "    # reflect the tables\n",
    "    Base.prepare(engine, reflect=True)\n",
    "    print('Tables reflected.')\n",
    "\n",
    "    # Create our session (link) from Python to the DB\n",
    "    session = Session(bind=engine)\n",
    "    print('Tables reflected.')\n",
    "    print('---------')\n",
    "    print('[PASSED] Database found and session established')\n",
    "except:\n",
    "    print('---------')\n",
    "    print('[FAILED] There are some issues with the database. Please check the ETL process.')"
   ]
  },
  {
   "cell_type": "markdown",
   "metadata": {},
   "source": [
    "## Step 2: Check that all expected tables are found"
   ]
  },
  {
   "cell_type": "code",
   "execution_count": 29,
   "metadata": {},
   "outputs": [
    {
     "name": "stdout",
     "output_type": "stream",
     "text": [
      "Expected tables: ['actor', 'character', 'city', 'financials', 'omdb_movies']\n",
      "Found tables: ['actor', 'character', 'city', 'financials', 'omdb_movies']\n",
      "---------\n",
      "[PASSED] Database is complete. OK to proceed.\n"
     ]
    }
   ],
   "source": [
    "# List expected tables\n",
    "expected_tables = ['actor', 'character', 'city', 'financials', 'omdb_movies']\n",
    "\n",
    "# View all of the classes that automap found\n",
    "found_tables = Base.classes.keys()\n",
    "\n",
    "# Display test results\n",
    "print(f\"Expected tables: {expected_tables}\")\n",
    "print(f\"Found tables: {found_tables}\")\n",
    "print('---------')\n",
    "\n",
    "# Check that the expected tables are found\n",
    "if (expected_tables == found_tables):\n",
    "    print('[PASSED] Database is complete. OK to proceed.')\n",
    "else:\n",
    "    print('[FAILED] Tables are missing or incorrect. Please check the ETL process.')"
   ]
  },
  {
   "cell_type": "markdown",
   "metadata": {},
   "source": [
    "## Step 3: Check that all tables contain data"
   ]
  },
  {
   "cell_type": "code",
   "execution_count": 30,
   "metadata": {},
   "outputs": [
    {
     "name": "stdout",
     "output_type": "stream",
     "text": [
      "[PASSED] Table `actor` contains 2599 rows.\n",
      "[PASSED] Table `character` contains 4319 rows.\n",
      "[PASSED] Table `city` contains 50 rows.\n",
      "[PASSED] Table `financials` contains 621 rows.\n",
      "[PASSED] Table `omdb_movies` contains 619 rows.\n"
     ]
    }
   ],
   "source": [
    "# Save references to each table\n",
    "actor = Base.classes.actor\n",
    "character = Base.classes.character\n",
    "city = Base.classes.city\n",
    "financials = Base.classes.financials\n",
    "omdb_movies = Base.classes.omdb_movies\n",
    "\n",
    "# Count rows in each table\n",
    "actor_rows = session.query(actor).count()\n",
    "character_rows = session.query(character).count()\n",
    "city_rows = session.query(city).count()\n",
    "financials_rows = session.query(financials).count()\n",
    "omdb_movies = session.query(omdb_movies).count()\n",
    "\n",
    "# Check that each table contains data\n",
    "if actor_rows > 0:\n",
    "    print(f\"[PASSED] Table `actor` contains {actor_rows} rows.\")\n",
    "else:\n",
    "    print('[FAILED] Table `actor` is empty.')\n",
    "\n",
    "if character_rows > 0:\n",
    "    print(f\"[PASSED] Table `character` contains {character_rows} rows.\")\n",
    "else:\n",
    "    print('[FAILED] Table `character` is empty.')\n",
    "\n",
    "if city_rows > 0:\n",
    "    print(f\"[PASSED] Table `city` contains {city_rows} rows.\")\n",
    "else:\n",
    "    print('[FAILED] Table `city` is empty.')\n",
    "\n",
    "if financials_rows > 0:\n",
    "    print(f\"[PASSED] Table `financials` contains {financials_rows} rows.\")\n",
    "else:\n",
    "    print('[FAILED] Table `financials` is empty.')\n",
    "\n",
    "if omdb_movies > 0:\n",
    "    print(f\"[PASSED] Table `omdb_movies` contains {omdb_movies} rows.\")\n",
    "else:\n",
    "    print('[FAILED] Table `omdb_movies` is empty.')"
   ]
  },
  {
   "cell_type": "markdown",
   "metadata": {},
   "source": [
    "## Final step\n",
    "Please do not forget to close your session!"
   ]
  },
  {
   "cell_type": "code",
   "execution_count": 31,
   "metadata": {},
   "outputs": [],
   "source": [
    "# Close Session\n",
    "session.close()"
   ]
  }
 ],
 "metadata": {
  "kernelspec": {
   "display_name": "dev",
   "language": "python",
   "name": "python3"
  },
  "language_info": {
   "codemirror_mode": {
    "name": "ipython",
    "version": 3
   },
   "file_extension": ".py",
   "mimetype": "text/x-python",
   "name": "python",
   "nbconvert_exporter": "python",
   "pygments_lexer": "ipython3",
   "version": "3.10.11"
  },
  "orig_nbformat": 4
 },
 "nbformat": 4,
 "nbformat_minor": 2
}
