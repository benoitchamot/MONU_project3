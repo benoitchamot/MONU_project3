{
 "cells": [
  {
   "cell_type": "markdown",
   "id": "aa93f335",
   "metadata": {},
   "source": [
    "# ETL - Geodata\n",
    "This notebook is used to extract and transform the data from CSV file saved in `/Datasets` generated as output from `dataExplorationJJyotsna - Q1&Geojson` and load it into the SQLite database.\n",
    "The file consists of the city when maximum actors were from in the corresponding country. It also has the Latitude and longitude coordinates as fetchd from `geoapify` though API calls in `dataExplorationJJyotsna - Q1&Geojson` module\n"
   ]
  },
  {
   "cell_type": "code",
   "execution_count": 1,
   "id": "ee308ec6",
   "metadata": {},
   "outputs": [],
   "source": [
    "# Dependencies\n",
    "import pandas as pd\n",
    "from pathlib import Path"
   ]
  },
  {
   "cell_type": "code",
   "execution_count": 2,
   "id": "2bd189fa",
   "metadata": {},
   "outputs": [],
   "source": [
    "# Import SQL Alchemy\n",
    "from sqlalchemy import create_engine\n",
    "\n",
    "# Import and establish Base for which classes will be constructed \n",
    "import sqlalchemy\n",
    "from sqlalchemy.ext.declarative import declarative_base\n",
    "from sqlalchemy.orm import Session\n",
    "from sqlalchemy import create_engine, func\n",
    "from sqlalchemy import desc\n",
    "\n",
    "# Import modules to declare columns and column data types\n",
    "from sqlalchemy import Column, Integer, String, Float, Boolean"
   ]
  },
  {
   "cell_type": "markdown",
   "id": "6c2fb8b3",
   "metadata": {},
   "source": [
    "## Import CSVs\n",
    "#### Movies CSV\n",
    "- Source: `Datasets/country_coordinates.csv`\n",
    "- Table: `city` in `Server/movies_db.sqlite`"
   ]
  },
  {
   "cell_type": "code",
   "execution_count": 3,
   "id": "f9209080",
   "metadata": {},
   "outputs": [
    {
     "data": {
      "text/plain": [
       "Unnamed: 0         int64\n",
       "birth_country     object\n",
       "birth_city        object\n",
       "Lat              float64\n",
       "Lon              float64\n",
       "dtype: object"
      ]
     },
     "execution_count": 3,
     "metadata": {},
     "output_type": "execute_result"
    }
   ],
   "source": [
    "# Get the country data\n",
    "country_csv = Path('../Datasets/country_coordinates.csv')\n",
    "country_df = pd.read_csv(country_csv)\n",
    "\n",
    "# Get the datatype from the DataFrame\n",
    "country_df.dtypes\n"
   ]
  },
  {
   "cell_type": "code",
   "execution_count": 4,
   "id": "c04b8b51",
   "metadata": {},
   "outputs": [],
   "source": [
    "# Get Base\n",
    "Base = declarative_base()"
   ]
  },
  {
   "cell_type": "code",
   "execution_count": 5,
   "id": "28a47091",
   "metadata": {},
   "outputs": [],
   "source": [
    "# Create character class\n",
    "class City(Base):\n",
    "    __tablename__ = 'city'\n",
    "    id = Column(Integer, primary_key=True)\n",
    "    birth_country = Column(String)\n",
    "    birth_city = Column(String)\n",
    "    Lat  = Column(Float)\n",
    "    Lon  = Column(Float)"
   ]
  },
  {
   "cell_type": "code",
   "execution_count": 6,
   "id": "810a4107",
   "metadata": {},
   "outputs": [],
   "source": [
    "# Create a connection to a SQLite database\n",
    "engine = create_engine('sqlite:///movies_db.sqlite')\n",
    "\n",
    "# Create the tables within the database\n",
    "Base.metadata.create_all(engine)\n",
    "# Start session\n",
    "session = Session(bind=engine)"
   ]
  },
  {
   "cell_type": "code",
   "execution_count": 7,
   "id": "1d6091d8",
   "metadata": {},
   "outputs": [
    {
     "name": "stdout",
     "output_type": "stream",
     "text": [
      "50 rows ready for commit.\n"
     ]
    }
   ],
   "source": [
    "# Loop through characters DataFrame and retrieve data\n",
    "for index, row in country_df.iterrows():\n",
    "    id = index\n",
    "    birth_country = country_df.loc[index,'birth_country']\n",
    "    birth_city = country_df.loc[index,'birth_city']\n",
    "    Lat = country_df.loc[index,'Lat']    \n",
    "    Lon = country_df.loc[index,'Lon']\n",
    "    \n",
    "    # Add data to database\n",
    "    session.add(City(\n",
    "    id = id,\n",
    "    birth_country = birth_country,\n",
    "    birth_city = birth_city,\n",
    "    Lat = Lat,\n",
    "    Lon = Lon        \n",
    "    ))\n",
    "print(f\"{len(country_df)} rows ready for commit.\")"
   ]
  },
  {
   "cell_type": "code",
   "execution_count": 8,
   "id": "ae2d1f53",
   "metadata": {},
   "outputs": [],
   "source": [
    "# Commit changes to session\n",
    "session.commit()\n",
    "\n",
    "# Close session\n",
    "session.close()"
   ]
  },
  {
   "cell_type": "code",
   "execution_count": 9,
   "id": "1489c29c",
   "metadata": {},
   "outputs": [],
   "source": []
  }
 ],
 "metadata": {
  "kernelspec": {
   "display_name": "Python 3 (ipykernel)",
   "language": "python",
   "name": "python3"
  },
  "language_info": {
   "codemirror_mode": {
    "name": "ipython",
    "version": 3
   },
   "file_extension": ".py",
   "mimetype": "text/x-python",
   "name": "python",
   "nbconvert_exporter": "python",
   "pygments_lexer": "ipython3",
   "version": "3.10.11"
  }
 },
 "nbformat": 4,
 "nbformat_minor": 5
}
