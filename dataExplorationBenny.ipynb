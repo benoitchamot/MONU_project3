{
 "cells": [
  {
   "cell_type": "markdown",
   "metadata": {},
   "source": [
    "# Data Exploration\n",
    "## Questions\n",
    "1. What are the Top 3 most popular words/themes in movie plot per genre? And per year?\n",
    "2. What is the pay gap between male and female actors per country and globally?\n",
    "\n",
    "`TODO`: https://visualstudio.microsoft.com/visual-cpp-build-tools/ to make this work: https://www.datacamp.com/tutorial/wordcloud-python"
   ]
  },
  {
   "cell_type": "code",
   "execution_count": 1,
   "metadata": {},
   "outputs": [],
   "source": [
    "# Dependencies\n",
    "import pandas as pd\n",
    "from pathlib import Path\n",
    "import matplotlib.pyplot as plt\n",
    "import plotly.graph_objects as go"
   ]
  },
  {
   "cell_type": "markdown",
   "metadata": {},
   "source": [
    "## Top 3 most popular themes"
   ]
  },
  {
   "cell_type": "code",
   "execution_count": 2,
   "metadata": {},
   "outputs": [],
   "source": [
    "# Import datasets\n",
    "omdb_csv = Path('Datasets/omdb.csv')\n",
    "omdb_df = pd.read_csv(omdb_csv)"
   ]
  },
  {
   "cell_type": "markdown",
   "metadata": {},
   "source": [
    "### Word Analysis\n",
    "For this part, we look at the word frequency in each movie plot. The OMDB dataset is used."
   ]
  },
  {
   "cell_type": "code",
   "execution_count": 3,
   "metadata": {},
   "outputs": [
    {
     "data": {
      "text/plain": [
       "['Comedy',\n",
       " 'Comedy, Drama, Romance',\n",
       " 'Comedy, Crime, Drama',\n",
       " 'Biography, Drama, War',\n",
       " 'Drama, Family, Fantasy',\n",
       " 'Comedy',\n",
       " 'Comedy, Drama, Romance',\n",
       " 'Comedy, Drama',\n",
       " 'Comedy, Drama',\n",
       " 'Action, Crime, Thriller',\n",
       " 'Comedy, Romance',\n",
       " 'Comedy',\n",
       " 'Adventure, Comedy, Family',\n",
       " 'Action, Adventure',\n",
       " 'Action, Comedy, Fantasy',\n",
       " 'Animation, Adventure, Family',\n",
       " 'Adventure, Comedy, Sci-Fi',\n",
       " 'Action, Adventure',\n",
       " 'Drama, Musical',\n",
       " 'Comedy, Drama, Romance',\n",
       " 'Comedy, Drama, Family',\n",
       " 'Action, Adventure, Comedy',\n",
       " 'Comedy, Romance',\n",
       " 'Action, Comedy, Crime',\n",
       " 'Comedy, Family',\n",
       " 'Action, Comedy',\n",
       " 'Drama, Thriller',\n",
       " 'Drama, Fantasy, Romance',\n",
       " 'Drama, Fantasy, Romance',\n",
       " 'Mystery, Thriller',\n",
       " 'Adventure, Drama, Western',\n",
       " 'Drama, Horror, Sci-Fi',\n",
       " 'Action, Adventure, Thriller',\n",
       " 'Action, Comedy, Crime',\n",
       " 'Adventure, Comedy, Sci-Fi',\n",
       " 'Action, Comedy, Crime',\n",
       " 'Crime, Drama',\n",
       " 'Action, Drama, Sport',\n",
       " 'Action, Adventure, Sci-Fi',\n",
       " 'Action, Thriller',\n",
       " 'Drama',\n",
       " 'Crime, Drama, Thriller',\n",
       " 'Drama, Thriller',\n",
       " 'Comedy, Family, Romance',\n",
       " nan,\n",
       " 'Action, Adventure, Comedy',\n",
       " 'Animation, Family, Fantasy',\n",
       " 'Action, Comedy',\n",
       " 'Comedy, Western',\n",
       " 'Action, Adventure, Sci-Fi',\n",
       " 'Comedy, Fantasy',\n",
       " 'Drama, Romance',\n",
       " 'Comedy',\n",
       " 'Crime, Thriller',\n",
       " 'Drama, History, Thriller',\n",
       " 'Action, Adventure, Drama',\n",
       " 'Adventure, Comedy, Family',\n",
       " 'Action, Drama, Mystery',\n",
       " 'Action, Sci-Fi',\n",
       " 'Crime, Drama, Romance',\n",
       " 'Drama, Thriller',\n",
       " 'Drama, Western',\n",
       " 'Adventure, Comedy, Crime',\n",
       " 'Comedy, Music',\n",
       " 'Action, Drama, Music',\n",
       " 'Animation, Adventure, Comedy',\n",
       " 'Comedy, Sport',\n",
       " 'Comedy, Family, Music',\n",
       " 'Drama',\n",
       " 'Action, Crime, Thriller',\n",
       " 'Action, Thriller',\n",
       " 'Comedy, Drama, Romance',\n",
       " 'Comedy, Drama, Sport',\n",
       " 'Action, Adventure, Drama',\n",
       " 'Drama, Fantasy, Horror',\n",
       " 'Drama, Thriller',\n",
       " 'Action, Thriller',\n",
       " 'Drama, Mystery, Thriller',\n",
       " 'Action, Crime, Fantasy',\n",
       " 'Adventure, Comedy, Family',\n",
       " 'Comedy, Drama, Fantasy',\n",
       " 'Adventure, Drama, Family',\n",
       " 'Comedy, Drama, Romance',\n",
       " 'Biography, Drama, History',\n",
       " 'Comedy, Drama',\n",
       " 'Biography, Drama, History',\n",
       " 'Drama',\n",
       " 'Comedy, Romance',\n",
       " 'Comedy, Drama, Romance',\n",
       " 'Drama, Romance',\n",
       " 'Comedy, Family, Music',\n",
       " 'Action, Crime, Drama',\n",
       " 'Action, Crime, Drama',\n",
       " 'Drama, Mystery, Thriller',\n",
       " 'Action, Crime, Drama',\n",
       " 'Crime, Drama, Mystery',\n",
       " 'Action, Sci-Fi, Thriller',\n",
       " 'Action, Adventure, Thriller',\n",
       " 'Action, Adventure, Sci-Fi',\n",
       " 'Crime, Drama',\n",
       " 'Comedy',\n",
       " 'Comedy',\n",
       " 'Comedy, Drama, Family',\n",
       " 'Action, Comedy, Crime',\n",
       " 'Action, Adventure, Thriller',\n",
       " 'Drama, Romance, War',\n",
       " 'Action, Adventure, Mystery',\n",
       " 'Animation, Adventure, Drama',\n",
       " 'Crime, Drama, Mystery',\n",
       " 'Action, Drama, Thriller',\n",
       " 'Comedy, Family, Fantasy',\n",
       " 'Drama, Romance',\n",
       " 'Action, Adventure, Sci-Fi',\n",
       " 'Drama, Thriller',\n",
       " 'Drama, Fantasy, Horror',\n",
       " 'Action, Crime, Drama',\n",
       " 'Drama, Horror, Romance',\n",
       " 'Action, Adventure, Comedy',\n",
       " 'Action, Comedy, Thriller',\n",
       " 'Comedy, Drama, Romance',\n",
       " 'Biography, Drama',\n",
       " 'Comedy, Romance',\n",
       " 'Comedy, Family, Romance',\n",
       " 'Animation, Adventure, Comedy',\n",
       " 'Adventure, Comedy, Crime',\n",
       " 'Comedy, Crime, Thriller',\n",
       " 'Drama, Music',\n",
       " 'Crime, Drama, Mystery',\n",
       " 'Comedy, Family, Fantasy',\n",
       " 'Action, Adventure, Mystery',\n",
       " 'Adventure, Drama, History',\n",
       " 'Action, Drama, Thriller',\n",
       " 'Animation, Adventure, Drama',\n",
       " 'Action, Adventure, Thriller',\n",
       " 'Adventure, Comedy, Family',\n",
       " 'Biography, Drama, History',\n",
       " 'Action, Adventure, Thriller',\n",
       " 'Action, Adventure',\n",
       " 'Action, Adventure, Sci-Fi',\n",
       " 'Horror, Mystery',\n",
       " 'Comedy',\n",
       " 'Drama, Romance, War',\n",
       " 'Comedy',\n",
       " 'Drama, Fantasy, Romance',\n",
       " 'Crime, Drama, Thriller',\n",
       " 'Action, Adventure, Drama',\n",
       " 'Action, Adventure, Thriller',\n",
       " 'Comedy, Drama, Romance',\n",
       " 'Comedy, Romance, Sci-Fi',\n",
       " 'Adventure, Comedy, Crime',\n",
       " 'Action, Adventure, Thriller',\n",
       " 'Action, Adventure, Sci-Fi',\n",
       " 'Action, Adventure, Thriller',\n",
       " 'Action, Crime, Thriller',\n",
       " 'Animation, Adventure, Comedy',\n",
       " 'Action, Adventure, Thriller',\n",
       " 'Animation, Drama, Family',\n",
       " 'Action, Crime, Thriller',\n",
       " 'Comedy, Drama, Fantasy',\n",
       " 'Drama, Romance',\n",
       " 'Horror, Mystery',\n",
       " 'Horror, Mystery',\n",
       " 'Comedy, Drama, Romance',\n",
       " 'Comedy, Fantasy',\n",
       " 'Comedy, Drama, Romance',\n",
       " 'Action, Adventure, Comedy',\n",
       " 'Action, Adventure, Sci-Fi',\n",
       " 'Action, Crime, Thriller',\n",
       " 'Action, Mystery, Thriller',\n",
       " 'Action, Crime, Sci-Fi',\n",
       " 'Comedy, Family, Sci-Fi',\n",
       " 'Animation, Adventure, Comedy',\n",
       " 'Action, Drama, Thriller',\n",
       " 'Action, Adventure, Comedy',\n",
       " 'Drama, Mystery, Sci-Fi',\n",
       " 'Action, Adventure, Thriller',\n",
       " 'Action, Adventure, Family',\n",
       " 'Drama, Romance',\n",
       " 'Comedy, Romance',\n",
       " 'Comedy, Sport',\n",
       " 'Comedy, Drama, History',\n",
       " 'Animation, Adventure, Comedy',\n",
       " 'Action, Comedy, Crime',\n",
       " 'Comedy, Drama',\n",
       " 'Biography, Comedy, Drama',\n",
       " 'Comedy, Drama',\n",
       " 'Comedy, Drama, Romance',\n",
       " 'Drama, War',\n",
       " 'Animation, Adventure, Drama',\n",
       " 'Comedy, Family, Fantasy',\n",
       " 'Action, Drama, Sci-Fi',\n",
       " 'Animation, Adventure, Comedy',\n",
       " 'Action, Thriller',\n",
       " 'Action, Adventure, Comedy',\n",
       " 'Animation, Adventure, Comedy',\n",
       " 'Action, Adventure, Sci-Fi',\n",
       " 'Action, Adventure, Sci-Fi',\n",
       " 'Action, Crime, Thriller',\n",
       " 'Horror, Mystery',\n",
       " 'Comedy',\n",
       " 'Drama',\n",
       " 'Comedy, Drama',\n",
       " 'Drama, Mystery, Thriller',\n",
       " 'Comedy, Drama, Romance',\n",
       " 'Crime, Drama, Mystery',\n",
       " 'Crime, Drama, Fantasy',\n",
       " 'Action, Sci-Fi',\n",
       " 'Comedy, Romance',\n",
       " 'Crime, Drama, Mystery',\n",
       " 'Comedy, Crime',\n",
       " 'Action, Adventure, Fantasy',\n",
       " 'Animation, Adventure, Comedy',\n",
       " 'Action, Adventure, Fantasy',\n",
       " 'Adventure, Comedy, Family',\n",
       " 'Action, Adventure, Thriller',\n",
       " 'Animation, Adventure, Comedy',\n",
       " 'Action, Comedy, Sci-Fi',\n",
       " 'Action, Adventure, Drama',\n",
       " 'Comedy',\n",
       " 'Action, Comedy, Crime',\n",
       " 'Biography, Drama, Sport',\n",
       " 'Animation, Adventure, Comedy',\n",
       " 'Crime, Drama, Thriller',\n",
       " 'Biography, Drama',\n",
       " 'Comedy, Romance',\n",
       " 'Comedy, Fantasy, Romance',\n",
       " 'Action, Adventure, Sci-Fi',\n",
       " 'Comedy, Romance, Sci-Fi',\n",
       " 'Adventure, Drama, Romance',\n",
       " 'Action, Adventure, Comedy',\n",
       " 'Drama, Horror, Mystery',\n",
       " 'Action, Adventure, Drama',\n",
       " 'Action, Drama, History',\n",
       " 'Action, Adventure, Drama',\n",
       " 'Comedy, Family, Fantasy',\n",
       " 'Action, Adventure, Thriller',\n",
       " 'Animation, Adventure, Drama',\n",
       " 'Comedy',\n",
       " 'Action, Adventure, Comedy',\n",
       " 'Comedy, Family, Romance',\n",
       " 'Action, Crime, Thriller',\n",
       " 'Animation, Adventure, Comedy',\n",
       " 'Biography, Drama',\n",
       " 'Fantasy, Mystery, Romance',\n",
       " 'Comedy, Family, Fantasy',\n",
       " 'Crime, Thriller',\n",
       " 'Crime, Drama, Thriller',\n",
       " 'Action, Comedy, Crime',\n",
       " 'Action, Drama, History',\n",
       " 'Action, Adventure, Sci-Fi',\n",
       " 'Action, Adventure, Drama',\n",
       " 'Action, Adventure, Fantasy',\n",
       " 'Action, Adventure, Sci-Fi',\n",
       " 'Action, Adventure, Fantasy',\n",
       " 'Animation, Adventure, Comedy',\n",
       " 'Action, Adventure, Sci-Fi',\n",
       " 'Action, Adventure, Sci-Fi',\n",
       " 'Action, Adventure, Sci-Fi',\n",
       " 'Adventure, Fantasy',\n",
       " 'Biography, Drama, History',\n",
       " 'Comedy, Music',\n",
       " 'Drama, Romance, Thriller',\n",
       " 'Animation, Adventure, Comedy',\n",
       " 'Animation, Adventure, Comedy',\n",
       " 'Animation, Adventure, Comedy',\n",
       " 'Adventure, Drama, Family',\n",
       " 'Adventure, Drama, Sci-Fi',\n",
       " 'Action, Adventure, Thriller',\n",
       " 'Action, Comedy, Sci-Fi',\n",
       " 'Animation, Adventure, Comedy',\n",
       " 'Action, Adventure, Drama',\n",
       " 'Action, Adventure, Sci-Fi',\n",
       " 'Action, Adventure, Thriller',\n",
       " 'Action, Adventure, Sci-Fi',\n",
       " 'Animation, Adventure, Comedy',\n",
       " 'Action, Crime, Thriller',\n",
       " 'Action, Adventure, Thriller',\n",
       " 'Comedy',\n",
       " 'Action, Adventure, Sci-Fi',\n",
       " 'Biography, Drama, History',\n",
       " 'Comedy, Drama, Music',\n",
       " 'Action, Comedy',\n",
       " 'Animation, Adventure, Comedy',\n",
       " 'Animation, Comedy, Family',\n",
       " 'Action, Thriller',\n",
       " 'Animation, Adventure, Comedy',\n",
       " 'Action, Comedy, Fantasy',\n",
       " 'Animation, Adventure, Comedy',\n",
       " 'Animation, Adventure, Comedy',\n",
       " 'Action, Adventure, Fantasy',\n",
       " 'Animation, Adventure, Drama',\n",
       " 'Action, Adventure, Fantasy',\n",
       " 'Action, Adventure, Sci-Fi',\n",
       " 'Adventure, Family, Fantasy',\n",
       " 'Action, Adventure, Sci-Fi',\n",
       " 'Animation, Adventure, Comedy',\n",
       " 'Action, Adventure, Sci-Fi',\n",
       " 'Action, Adventure, Sci-Fi',\n",
       " 'Action, Sci-Fi',\n",
       " 'Horror, Mystery, Thriller',\n",
       " 'Horror',\n",
       " 'Animation, Action, Adventure',\n",
       " 'Animation, Adventure, Comedy',\n",
       " 'Biography, Drama, Musical',\n",
       " 'Action, Drama, Sci-Fi',\n",
       " 'Action, Drama, History',\n",
       " 'Animation, Adventure, Comedy',\n",
       " 'Action, Adventure, Fantasy',\n",
       " 'Action, Adventure, Comedy',\n",
       " 'Animation, Family, Fantasy',\n",
       " 'Action, Adventure, Sci-Fi',\n",
       " 'Animation, Adventure, Drama',\n",
       " 'Action, Adventure, Comedy',\n",
       " 'Action, Adventure, Fantasy',\n",
       " 'Action, Adventure, Comedy',\n",
       " 'Action, Adventure, Fantasy',\n",
       " 'Action, Crime, Thriller',\n",
       " 'Action, Adventure, Fantasy',\n",
       " 'Short, Action, Fantasy',\n",
       " 'Drama, Horror, Sci-Fi',\n",
       " 'Comedy, Drama, Romance',\n",
       " 'Drama, Music, Romance',\n",
       " 'Biography, Drama, Music',\n",
       " 'Family, Musical',\n",
       " 'Animation, Adventure, Comedy',\n",
       " 'Animation, Action, Adventure',\n",
       " 'Action, Adventure, Comedy',\n",
       " 'Action, Adventure, Sci-Fi',\n",
       " 'Adventure, Comedy, Family',\n",
       " 'Action, Adventure, Fantasy',\n",
       " 'Action, Adventure, Sci-Fi',\n",
       " 'Animation, Adventure, Comedy',\n",
       " 'Action, Adventure, Thriller',\n",
       " 'Action, Adventure, Comedy',\n",
       " 'Action, Adventure, Sci-Fi',\n",
       " 'Animation, Action, Adventure',\n",
       " nan,\n",
       " 'Action, Adventure, Sci-Fi',\n",
       " 'Action, Adventure, Sci-Fi',\n",
       " 'Drama, Horror, Sci-Fi',\n",
       " 'Horror, Mystery, Thriller',\n",
       " 'Comedy, Drama',\n",
       " 'Action, Crime, Thriller',\n",
       " 'Drama, Fantasy, Horror',\n",
       " 'Animation, Adventure, Comedy',\n",
       " 'Comedy, Drama',\n",
       " 'Animation, Action, Adventure',\n",
       " 'Action, Adventure, Comedy',\n",
       " 'Animation, Action, Adventure',\n",
       " nan,\n",
       " 'Action, Adventure, Comedy',\n",
       " 'Animation, Adventure, Drama',\n",
       " 'Action, Adventure, Sci-Fi',\n",
       " 'Animation, Adventure, Comedy',\n",
       " 'Action, Adventure, Fantasy',\n",
       " 'Animation, Adventure, Comedy',\n",
       " 'Action, Adventure, Crime',\n",
       " 'Animation, Adventure, Drama',\n",
       " 'Action, Sci-Fi, Thriller',\n",
       " 'Biography, Drama, History',\n",
       " 'Drama, Mystery',\n",
       " nan,\n",
       " 'Comedy, Drama, Romance',\n",
       " 'Action, Adventure, Fantasy',\n",
       " 'Animation, Adventure, Comedy',\n",
       " 'Action, Adventure, Comedy',\n",
       " 'Action, Adventure, Crime',\n",
       " 'Animation, Adventure, Comedy',\n",
       " 'Action, Thriller',\n",
       " 'Action, Adventure, Drama',\n",
       " 'Crime, Drama, Musical',\n",
       " 'Action, Adventure, Comedy',\n",
       " nan,\n",
       " 'Animation, Comedy, Family',\n",
       " 'Action, Adventure, Drama',\n",
       " 'Action, Adventure, Thriller',\n",
       " 'Biography, Comedy, Drama',\n",
       " 'Action, Sci-Fi, Thriller',\n",
       " 'Comedy, Music, Romance',\n",
       " 'Comedy, Romance, Sport',\n",
       " 'Adventure, Family, Fantasy',\n",
       " 'Action, Drama, History',\n",
       " 'Comedy, Drama, Romance',\n",
       " 'Comedy, Romance',\n",
       " 'Horror, Mystery',\n",
       " 'Comedy, Romance',\n",
       " 'Animation, Adventure, Comedy',\n",
       " 'Action, Mystery, Thriller',\n",
       " 'Action, Adventure, Comedy',\n",
       " 'Comedy, Family, Fantasy',\n",
       " 'Action, Adventure, Thriller',\n",
       " 'Drama, Mystery, Sci-Fi',\n",
       " 'Action, Adventure, Drama',\n",
       " 'Animation, Adventure, Comedy',\n",
       " 'Adventure, Comedy, Family',\n",
       " 'Adventure, Family, Fantasy',\n",
       " 'Action, Crime, Mystery',\n",
       " 'Action, Adventure, Fantasy',\n",
       " 'Action, Adventure, Sci-Fi',\n",
       " nan,\n",
       " 'Action, Adventure, Thriller',\n",
       " 'Comedy',\n",
       " 'Adventure, Comedy, Family',\n",
       " nan,\n",
       " 'Comedy, Family',\n",
       " 'Comedy',\n",
       " 'Action, Crime, Thriller',\n",
       " 'Comedy, Fantasy',\n",
       " 'Action, Adventure, Crime',\n",
       " 'Comedy, Drama, Romance',\n",
       " 'Drama, History, Sport',\n",
       " 'Animation, Adventure, Comedy',\n",
       " 'Action, Adventure, Drama',\n",
       " 'Action, Sci-Fi, Thriller',\n",
       " 'Action, Comedy, Crime',\n",
       " 'Action, Sci-Fi',\n",
       " 'Action, Adventure, Fantasy',\n",
       " 'Action, Drama',\n",
       " 'Action, Sci-Fi',\n",
       " 'Action, Sci-Fi',\n",
       " 'Action, Sci-Fi',\n",
       " 'Documentary, Drama, War',\n",
       " 'Comedy, Sport',\n",
       " 'Drama',\n",
       " 'Drama, Mystery, Thriller',\n",
       " 'Comedy, Drama, Romance',\n",
       " 'Action, Mystery, Thriller',\n",
       " 'Animation, Adventure, Comedy',\n",
       " 'Comedy, Romance',\n",
       " 'Animation, Action, Adventure',\n",
       " 'Action, Adventure, Mystery',\n",
       " 'Crime, Thriller',\n",
       " 'Action, Mystery, Sci-Fi',\n",
       " 'Action, Adventure, Sci-Fi',\n",
       " 'Adventure, Family, Fantasy',\n",
       " nan,\n",
       " 'Animation, Adventure, Comedy',\n",
       " 'Action, Adventure, Fantasy',\n",
       " 'Animation, Adventure, Comedy',\n",
       " 'Drama',\n",
       " 'Action, Adventure, Sci-Fi',\n",
       " 'Comedy, Romance',\n",
       " 'Biography, Drama, Music',\n",
       " 'Comedy, Romance',\n",
       " 'Drama, Mystery, Thriller',\n",
       " 'Action, Comedy, Drama',\n",
       " 'Comedy, Romance',\n",
       " 'Animation, Adventure, Comedy',\n",
       " 'Animation, Adventure, Comedy',\n",
       " 'Comedy, Crime, Sport',\n",
       " 'Action, Adventure, Fantasy',\n",
       " 'Comedy, Crime',\n",
       " 'Action, Comedy, Crime',\n",
       " 'Action, Adventure, Fantasy',\n",
       " 'Action, Adventure, Sci-Fi',\n",
       " 'Action, Crime, Drama',\n",
       " 'Adventure, Comedy, Family',\n",
       " 'Animation, Adventure, Comedy',\n",
       " 'Adventure, Family, Fantasy',\n",
       " 'Adventure, Family, Fantasy',\n",
       " 'Action, Adventure, Romance',\n",
       " nan,\n",
       " 'Comedy, Drama',\n",
       " 'Comedy',\n",
       " 'Comedy, Drama, Romance',\n",
       " 'Biography, Drama',\n",
       " 'Drama, Music, Musical',\n",
       " 'Comedy, Sport',\n",
       " 'Animation, Adventure, Comedy',\n",
       " 'Animation, Adventure, Comedy',\n",
       " 'Comedy, Drama, Fantasy',\n",
       " 'Crime, Drama, Thriller',\n",
       " 'Animation, Adventure, Comedy',\n",
       " 'Adventure, Comedy, Family',\n",
       " 'Animation, Adventure, Comedy',\n",
       " 'Mystery, Thriller',\n",
       " 'Action, Adventure, Thriller',\n",
       " 'Action, Adventure, Thriller',\n",
       " 'Action, Adventure, Fantasy',\n",
       " 'Action, Adventure, Sci-Fi',\n",
       " 'Action, Adventure, Sci-Fi',\n",
       " 'Comedy, Drama',\n",
       " 'Comedy, Romance',\n",
       " 'Action, Adventure, Comedy',\n",
       " 'Action, Drama',\n",
       " 'Animation, Adventure, Comedy',\n",
       " 'Action, Mystery, Thriller',\n",
       " 'Animation, Adventure, Comedy',\n",
       " 'Animation, Adventure, Comedy',\n",
       " 'Biography, Crime, Drama',\n",
       " 'Action, Thriller',\n",
       " nan,\n",
       " 'Action, Adventure, Mystery',\n",
       " 'Action, Comedy, Crime',\n",
       " 'Animation, Adventure, Comedy',\n",
       " 'Action, Adventure, Sci-Fi',\n",
       " 'Action, Adventure, Family',\n",
       " 'Action, Drama, Horror',\n",
       " 'Animation, Adventure, Comedy',\n",
       " 'Action, Adventure, Sci-Fi',\n",
       " 'Action, Adventure, Fantasy',\n",
       " 'Crime, Drama, Romance',\n",
       " 'Drama',\n",
       " 'Drama, Fantasy, Romance',\n",
       " 'Comedy, Musical, Romance',\n",
       " nan,\n",
       " 'Comedy, Drama, Romance',\n",
       " 'Action, Crime, Thriller',\n",
       " 'Action, Adventure, Comedy',\n",
       " 'Animation, Adventure, Comedy',\n",
       " 'Animation, Action, Adventure',\n",
       " 'Action, Adventure, Sci-Fi',\n",
       " 'Action, Adventure, Sci-Fi',\n",
       " 'Action, Comedy, Drama',\n",
       " 'Animation, Adventure, Comedy',\n",
       " 'Drama, Fantasy, Romance',\n",
       " 'Animation, Adventure, Family',\n",
       " 'Action, Adventure',\n",
       " 'Action, Crime, Drama',\n",
       " 'Action, Adventure, Mystery',\n",
       " 'Action, Adventure, Family',\n",
       " 'Action, Crime, Thriller',\n",
       " 'Action, Comedy, Crime',\n",
       " 'Biography, Drama, Sport',\n",
       " 'Comedy',\n",
       " 'Comedy, Drama, Romance',\n",
       " 'Adventure, Drama, Fantasy',\n",
       " 'Animation, Adventure, Comedy',\n",
       " 'Comedy, Crime, Mystery',\n",
       " 'Animation, Adventure, Comedy',\n",
       " 'Action, Adventure, Mystery',\n",
       " 'Action, Sci-Fi',\n",
       " 'Action, Adventure, Sci-Fi',\n",
       " 'Adventure, Comedy, Family',\n",
       " 'Action, Adventure, Sci-Fi',\n",
       " 'Animation, Action, Adventure',\n",
       " 'Animation, Adventure, Comedy',\n",
       " 'Action, Adventure, Sci-Fi',\n",
       " 'Action, Adventure, Sci-Fi',\n",
       " 'Action, Adventure, Fantasy',\n",
       " 'Action, Adventure, Family',\n",
       " 'Biography, Drama, History',\n",
       " 'Drama, Western',\n",
       " 'Action, Drama, Family',\n",
       " 'Action, Adventure, Drama',\n",
       " 'Animation, Adventure, Comedy',\n",
       " 'Mystery, Thriller',\n",
       " 'Comedy',\n",
       " 'Comedy, Romance',\n",
       " 'Action, Adventure, Fantasy',\n",
       " 'Animation, Action, Comedy',\n",
       " 'Action, Adventure, Family',\n",
       " 'Action, Adventure, Sci-Fi',\n",
       " 'Animation, Action, Adventure',\n",
       " 'Animation, Adventure, Comedy',\n",
       " 'Action, Adventure, Sci-Fi',\n",
       " 'Adventure, Family, Fantasy',\n",
       " 'Action, Sci-Fi',\n",
       " 'Animation, Adventure, Comedy',\n",
       " 'Adventure, Family, Fantasy',\n",
       " 'Animation, Adventure, Comedy',\n",
       " 'Drama',\n",
       " 'Comedy, Romance',\n",
       " 'Animation, Adventure, Comedy',\n",
       " 'Comedy',\n",
       " 'Animation, Adventure, Comedy',\n",
       " 'Action, Drama, Sci-Fi',\n",
       " 'Adventure, Drama, Fantasy',\n",
       " 'Animation, Adventure, Comedy',\n",
       " 'Action, Crime, Thriller',\n",
       " 'Adventure, Family, Fantasy',\n",
       " 'Action, Adventure, Mystery',\n",
       " 'Animation, Short, Adventure, Comedy, Family',\n",
       " 'Action, Adventure, Sci-Fi',\n",
       " 'Action, Adventure, Thriller',\n",
       " 'Action, Fantasy',\n",
       " 'Animation, Action, Adventure',\n",
       " 'Action, Adventure, Sci-Fi',\n",
       " 'Animation, Adventure, Comedy',\n",
       " 'Action, Adventure, Fantasy',\n",
       " 'Action, Crime, Thriller',\n",
       " 'Comedy',\n",
       " 'Drama, History',\n",
       " 'Biography, Drama, History',\n",
       " 'Animation, Adventure, Comedy',\n",
       " 'Action, Adventure, Sci-Fi',\n",
       " 'Animation, Adventure, Comedy',\n",
       " 'Animation, Adventure, Comedy',\n",
       " 'Drama, Western',\n",
       " 'Adventure, Drama, Fantasy',\n",
       " 'Animation, Adventure, Comedy',\n",
       " 'Animation, Adventure, Comedy',\n",
       " 'Action, Adventure, Drama',\n",
       " 'Animation, Adventure, Comedy',\n",
       " 'Action, Adventure, Thriller',\n",
       " 'Action, Adventure, Sci-Fi',\n",
       " 'Action, Sci-Fi',\n",
       " 'Action, Adventure, Comedy',\n",
       " 'Action, Drama, Thriller',\n",
       " 'Adventure, Fantasy',\n",
       " 'Horror, Mystery, Thriller',\n",
       " 'Comedy, Crime, Drama',\n",
       " 'Comedy, Crime',\n",
       " 'Crime, Drama',\n",
       " 'Action, Comedy, Crime',\n",
       " 'Animation, Adventure, Comedy',\n",
       " 'Drama, Romance',\n",
       " 'Drama, Sci-Fi, Thriller',\n",
       " 'Action, Adventure, Sci-Fi',\n",
       " 'Animation, Action, Adventure',\n",
       " 'Animation, Adventure, Comedy',\n",
       " 'Action, Adventure, Crime',\n",
       " 'Action, Adventure, Fantasy',\n",
       " 'Action, Adventure, Sci-Fi',\n",
       " 'Adventure, Family, Fantasy',\n",
       " 'Action, Adventure, Sci-Fi',\n",
       " 'Action, Adventure, Horror',\n",
       " 'Animation, Adventure, Comedy',\n",
       " 'Action, Adventure, Sci-Fi',\n",
       " 'Adventure, Drama, Fantasy',\n",
       " 'Comedy',\n",
       " 'Action, Comedy, Crime',\n",
       " 'Action, Biography, Drama',\n",
       " 'Animation, Action, Adventure',\n",
       " 'Drama, Mystery, Thriller',\n",
       " 'Action, Adventure, Mystery',\n",
       " 'Action, Adventure, Comedy',\n",
       " 'Action, Adventure, Sci-Fi',\n",
       " 'Animation, Action, Adventure',\n",
       " 'Action, Adventure, Sci-Fi',\n",
       " 'Animation, Action, Adventure',\n",
       " 'Adventure, Drama, Sci-Fi',\n",
       " 'Action, Adventure, Sci-Fi',\n",
       " 'Action, Adventure, Drama',\n",
       " 'Action, Adventure, Comedy',\n",
       " 'Adventure, Family, Fantasy']"
      ]
     },
     "execution_count": 3,
     "metadata": {},
     "output_type": "execute_result"
    }
   ],
   "source": [
    "genre_list = omdb_df['Genre'].tolist()\n",
    "genre_list"
   ]
  },
  {
   "cell_type": "code",
   "execution_count": 4,
   "metadata": {},
   "outputs": [
    {
     "name": "stdout",
     "output_type": "stream",
     "text": [
      "0: Comedy\n",
      "1: Comedy, Drama, Romance\n",
      "2: Comedy, Crime, Drama\n",
      "3: Biography, Drama, War\n",
      "4: Drama, Family, Fantasy\n",
      "5: Comedy\n",
      "6: Comedy, Drama, Romance\n",
      "7: Comedy, Drama\n",
      "8: Comedy, Drama\n",
      "9: Action, Crime, Thriller\n",
      "10: Comedy, Romance\n",
      "11: Comedy\n",
      "12: Adventure, Comedy, Family\n",
      "13: Action, Adventure\n",
      "14: Action, Comedy, Fantasy\n",
      "15: Animation, Adventure, Family\n",
      "16: Adventure, Comedy, Sci-Fi\n",
      "17: Action, Adventure\n",
      "18: Drama, Musical\n",
      "19: Comedy, Drama, Romance\n",
      "20: Comedy, Drama, Family\n",
      "21: Action, Adventure, Comedy\n",
      "22: Comedy, Romance\n",
      "23: Action, Comedy, Crime\n",
      "24: Comedy, Family\n",
      "25: Action, Comedy\n",
      "26: Drama, Thriller\n",
      "27: Drama, Fantasy, Romance\n",
      "28: Drama, Fantasy, Romance\n",
      "29: Mystery, Thriller\n",
      "30: Adventure, Drama, Western\n",
      "31: Drama, Horror, Sci-Fi\n",
      "32: Action, Adventure, Thriller\n",
      "33: Action, Comedy, Crime\n",
      "34: Adventure, Comedy, Sci-Fi\n",
      "35: Action, Comedy, Crime\n",
      "36: Crime, Drama\n",
      "37: Action, Drama, Sport\n",
      "38: Action, Adventure, Sci-Fi\n",
      "39: Action, Thriller\n",
      "40: Drama\n",
      "41: Crime, Drama, Thriller\n",
      "42: Drama, Thriller\n",
      "43: Comedy, Family, Romance\n",
      "44: nan\n",
      "45: Action, Adventure, Comedy\n",
      "46: Animation, Family, Fantasy\n",
      "47: Action, Comedy\n",
      "48: Comedy, Western\n",
      "49: Action, Adventure, Sci-Fi\n",
      "50: Comedy, Fantasy\n",
      "51: Drama, Romance\n",
      "52: Comedy\n",
      "53: Crime, Thriller\n",
      "54: Drama, History, Thriller\n",
      "55: Action, Adventure, Drama\n",
      "56: Adventure, Comedy, Family\n",
      "57: Action, Drama, Mystery\n",
      "58: Action, Sci-Fi\n",
      "59: Crime, Drama, Romance\n",
      "60: Drama, Thriller\n",
      "61: Drama, Western\n",
      "62: Adventure, Comedy, Crime\n",
      "63: Comedy, Music\n",
      "64: Action, Drama, Music\n",
      "65: Animation, Adventure, Comedy\n",
      "66: Comedy, Sport\n",
      "67: Comedy, Family, Music\n",
      "68: Drama\n",
      "69: Action, Crime, Thriller\n",
      "70: Action, Thriller\n",
      "71: Comedy, Drama, Romance\n",
      "72: Comedy, Drama, Sport\n",
      "73: Action, Adventure, Drama\n",
      "74: Drama, Fantasy, Horror\n",
      "75: Drama, Thriller\n",
      "76: Action, Thriller\n",
      "77: Drama, Mystery, Thriller\n",
      "78: Action, Crime, Fantasy\n",
      "79: Adventure, Comedy, Family\n",
      "80: Comedy, Drama, Fantasy\n",
      "81: Adventure, Drama, Family\n",
      "82: Comedy, Drama, Romance\n",
      "83: Biography, Drama, History\n",
      "84: Comedy, Drama\n",
      "85: Biography, Drama, History\n",
      "86: Drama\n",
      "87: Comedy, Romance\n",
      "88: Comedy, Drama, Romance\n",
      "89: Drama, Romance\n",
      "90: Comedy, Family, Music\n",
      "91: Action, Crime, Drama\n",
      "92: Action, Crime, Drama\n",
      "93: Drama, Mystery, Thriller\n",
      "94: Action, Crime, Drama\n",
      "95: Crime, Drama, Mystery\n",
      "96: Action, Sci-Fi, Thriller\n",
      "97: Action, Adventure, Thriller\n",
      "98: Action, Adventure, Sci-Fi\n",
      "99: Crime, Drama\n",
      "100: Comedy\n",
      "101: Comedy\n",
      "102: Comedy, Drama, Family\n",
      "103: Action, Comedy, Crime\n",
      "104: Action, Adventure, Thriller\n",
      "105: Drama, Romance, War\n",
      "106: Action, Adventure, Mystery\n",
      "107: Animation, Adventure, Drama\n",
      "108: Crime, Drama, Mystery\n",
      "109: Action, Drama, Thriller\n",
      "110: Comedy, Family, Fantasy\n",
      "111: Drama, Romance\n",
      "112: Action, Adventure, Sci-Fi\n",
      "113: Drama, Thriller\n",
      "114: Drama, Fantasy, Horror\n",
      "115: Action, Crime, Drama\n",
      "116: Drama, Horror, Romance\n",
      "117: Action, Adventure, Comedy\n",
      "118: Action, Comedy, Thriller\n",
      "119: Comedy, Drama, Romance\n",
      "120: Biography, Drama\n",
      "121: Comedy, Romance\n",
      "122: Comedy, Family, Romance\n",
      "123: Animation, Adventure, Comedy\n",
      "124: Adventure, Comedy, Crime\n",
      "125: Comedy, Crime, Thriller\n",
      "126: Drama, Music\n",
      "127: Crime, Drama, Mystery\n",
      "128: Comedy, Family, Fantasy\n",
      "129: Action, Adventure, Mystery\n",
      "130: Adventure, Drama, History\n",
      "131: Action, Drama, Thriller\n",
      "132: Animation, Adventure, Drama\n",
      "133: Action, Adventure, Thriller\n",
      "134: Adventure, Comedy, Family\n",
      "135: Biography, Drama, History\n",
      "136: Action, Adventure, Thriller\n",
      "137: Action, Adventure\n",
      "138: Action, Adventure, Sci-Fi\n",
      "139: Horror, Mystery\n",
      "140: Comedy\n",
      "141: Drama, Romance, War\n",
      "142: Comedy\n",
      "143: Drama, Fantasy, Romance\n",
      "144: Crime, Drama, Thriller\n",
      "145: Action, Adventure, Drama\n",
      "146: Action, Adventure, Thriller\n",
      "147: Comedy, Drama, Romance\n",
      "148: Comedy, Romance, Sci-Fi\n",
      "149: Adventure, Comedy, Crime\n",
      "150: Action, Adventure, Thriller\n",
      "151: Action, Adventure, Sci-Fi\n",
      "152: Action, Adventure, Thriller\n",
      "153: Action, Crime, Thriller\n",
      "154: Animation, Adventure, Comedy\n",
      "155: Action, Adventure, Thriller\n",
      "156: Animation, Drama, Family\n",
      "157: Action, Crime, Thriller\n",
      "158: Comedy, Drama, Fantasy\n",
      "159: Drama, Romance\n",
      "160: Horror, Mystery\n",
      "161: Horror, Mystery\n",
      "162: Comedy, Drama, Romance\n",
      "163: Comedy, Fantasy\n",
      "164: Comedy, Drama, Romance\n",
      "165: Action, Adventure, Comedy\n",
      "166: Action, Adventure, Sci-Fi\n",
      "167: Action, Crime, Thriller\n",
      "168: Action, Mystery, Thriller\n",
      "169: Action, Crime, Sci-Fi\n",
      "170: Comedy, Family, Sci-Fi\n",
      "171: Animation, Adventure, Comedy\n",
      "172: Action, Drama, Thriller\n",
      "173: Action, Adventure, Comedy\n",
      "174: Drama, Mystery, Sci-Fi\n",
      "175: Action, Adventure, Thriller\n",
      "176: Action, Adventure, Family\n",
      "177: Drama, Romance\n",
      "178: Comedy, Romance\n",
      "179: Comedy, Sport\n",
      "180: Comedy, Drama, History\n",
      "181: Animation, Adventure, Comedy\n",
      "182: Action, Comedy, Crime\n",
      "183: Comedy, Drama\n",
      "184: Biography, Comedy, Drama\n",
      "185: Comedy, Drama\n",
      "186: Comedy, Drama, Romance\n",
      "187: Drama, War\n",
      "188: Animation, Adventure, Drama\n",
      "189: Comedy, Family, Fantasy\n",
      "190: Action, Drama, Sci-Fi\n",
      "191: Animation, Adventure, Comedy\n",
      "192: Action, Thriller\n",
      "193: Action, Adventure, Comedy\n",
      "194: Animation, Adventure, Comedy\n",
      "195: Action, Adventure, Sci-Fi\n",
      "196: Action, Adventure, Sci-Fi\n",
      "197: Action, Crime, Thriller\n",
      "198: Horror, Mystery\n",
      "199: Comedy\n",
      "200: Drama\n",
      "201: Comedy, Drama\n",
      "202: Drama, Mystery, Thriller\n",
      "203: Comedy, Drama, Romance\n",
      "204: Crime, Drama, Mystery\n",
      "205: Crime, Drama, Fantasy\n",
      "206: Action, Sci-Fi\n",
      "207: Comedy, Romance\n",
      "208: Crime, Drama, Mystery\n",
      "209: Comedy, Crime\n",
      "210: Action, Adventure, Fantasy\n",
      "211: Animation, Adventure, Comedy\n",
      "212: Action, Adventure, Fantasy\n",
      "213: Adventure, Comedy, Family\n",
      "214: Action, Adventure, Thriller\n",
      "215: Animation, Adventure, Comedy\n",
      "216: Action, Comedy, Sci-Fi\n",
      "217: Action, Adventure, Drama\n",
      "218: Comedy\n",
      "219: Action, Comedy, Crime\n",
      "220: Biography, Drama, Sport\n",
      "221: Animation, Adventure, Comedy\n",
      "222: Crime, Drama, Thriller\n",
      "223: Biography, Drama\n",
      "224: Comedy, Romance\n",
      "225: Comedy, Fantasy, Romance\n",
      "226: Action, Adventure, Sci-Fi\n",
      "227: Comedy, Romance, Sci-Fi\n",
      "228: Adventure, Drama, Romance\n",
      "229: Action, Adventure, Comedy\n",
      "230: Drama, Horror, Mystery\n",
      "231: Action, Adventure, Drama\n",
      "232: Action, Drama, History\n",
      "233: Action, Adventure, Drama\n",
      "234: Comedy, Family, Fantasy\n",
      "235: Action, Adventure, Thriller\n",
      "236: Animation, Adventure, Drama\n",
      "237: Comedy\n",
      "238: Action, Adventure, Comedy\n",
      "239: Comedy, Family, Romance\n",
      "240: Action, Crime, Thriller\n",
      "241: Animation, Adventure, Comedy\n",
      "242: Biography, Drama\n",
      "243: Fantasy, Mystery, Romance\n",
      "244: Comedy, Family, Fantasy\n",
      "245: Crime, Thriller\n",
      "246: Crime, Drama, Thriller\n",
      "247: Action, Comedy, Crime\n",
      "248: Action, Drama, History\n",
      "249: Action, Adventure, Sci-Fi\n",
      "250: Action, Adventure, Drama\n",
      "251: Action, Adventure, Fantasy\n",
      "252: Action, Adventure, Sci-Fi\n",
      "253: Action, Adventure, Fantasy\n",
      "254: Animation, Adventure, Comedy\n",
      "255: Action, Adventure, Sci-Fi\n",
      "256: Action, Adventure, Sci-Fi\n",
      "257: Action, Adventure, Sci-Fi\n",
      "258: Adventure, Fantasy\n",
      "259: Biography, Drama, History\n",
      "260: Comedy, Music\n",
      "261: Drama, Romance, Thriller\n",
      "262: Animation, Adventure, Comedy\n",
      "263: Animation, Adventure, Comedy\n",
      "264: Animation, Adventure, Comedy\n",
      "265: Adventure, Drama, Family\n",
      "266: Adventure, Drama, Sci-Fi\n",
      "267: Action, Adventure, Thriller\n",
      "268: Action, Comedy, Sci-Fi\n",
      "269: Animation, Adventure, Comedy\n",
      "270: Action, Adventure, Drama\n",
      "271: Action, Adventure, Sci-Fi\n",
      "272: Action, Adventure, Thriller\n",
      "273: Action, Adventure, Sci-Fi\n",
      "274: Animation, Adventure, Comedy\n",
      "275: Action, Crime, Thriller\n",
      "276: Action, Adventure, Thriller\n",
      "277: Comedy\n",
      "278: Action, Adventure, Sci-Fi\n",
      "279: Biography, Drama, History\n",
      "280: Comedy, Drama, Music\n",
      "281: Action, Comedy\n",
      "282: Animation, Adventure, Comedy\n",
      "283: Animation, Comedy, Family\n",
      "284: Action, Thriller\n",
      "285: Animation, Adventure, Comedy\n",
      "286: Action, Comedy, Fantasy\n",
      "287: Animation, Adventure, Comedy\n",
      "288: Animation, Adventure, Comedy\n",
      "289: Action, Adventure, Fantasy\n",
      "290: Animation, Adventure, Drama\n",
      "291: Action, Adventure, Fantasy\n",
      "292: Action, Adventure, Sci-Fi\n",
      "293: Adventure, Family, Fantasy\n",
      "294: Action, Adventure, Sci-Fi\n",
      "295: Animation, Adventure, Comedy\n",
      "296: Action, Adventure, Sci-Fi\n",
      "297: Action, Adventure, Sci-Fi\n",
      "298: Action, Sci-Fi\n",
      "299: Horror, Mystery, Thriller\n",
      "300: Horror\n",
      "301: Animation, Action, Adventure\n",
      "302: Animation, Adventure, Comedy\n",
      "303: Biography, Drama, Musical\n",
      "304: Action, Drama, Sci-Fi\n",
      "305: Action, Drama, History\n",
      "306: Animation, Adventure, Comedy\n",
      "307: Action, Adventure, Fantasy\n",
      "308: Action, Adventure, Comedy\n",
      "309: Animation, Family, Fantasy\n",
      "310: Action, Adventure, Sci-Fi\n",
      "311: Animation, Adventure, Drama\n",
      "312: Action, Adventure, Comedy\n",
      "313: Action, Adventure, Fantasy\n",
      "314: Action, Adventure, Comedy\n",
      "315: Action, Adventure, Fantasy\n",
      "316: Action, Crime, Thriller\n",
      "317: Action, Adventure, Fantasy\n",
      "318: Short, Action, Fantasy\n",
      "319: Drama, Horror, Sci-Fi\n",
      "320: Comedy, Drama, Romance\n",
      "321: Drama, Music, Romance\n",
      "322: Biography, Drama, Music\n",
      "323: Family, Musical\n",
      "324: Animation, Adventure, Comedy\n",
      "325: Animation, Action, Adventure\n",
      "326: Action, Adventure, Comedy\n",
      "327: Action, Adventure, Sci-Fi\n",
      "328: Adventure, Comedy, Family\n",
      "329: Action, Adventure, Fantasy\n",
      "330: Action, Adventure, Sci-Fi\n",
      "331: Animation, Adventure, Comedy\n",
      "332: Action, Adventure, Thriller\n",
      "333: Action, Adventure, Comedy\n",
      "334: Action, Adventure, Sci-Fi\n",
      "335: Animation, Action, Adventure\n",
      "336: nan\n",
      "337: Action, Adventure, Sci-Fi\n",
      "338: Action, Adventure, Sci-Fi\n",
      "339: Drama, Horror, Sci-Fi\n",
      "340: Horror, Mystery, Thriller\n",
      "341: Comedy, Drama\n",
      "342: Action, Crime, Thriller\n",
      "343: Drama, Fantasy, Horror\n",
      "344: Animation, Adventure, Comedy\n",
      "345: Comedy, Drama\n",
      "346: Animation, Action, Adventure\n",
      "347: Action, Adventure, Comedy\n",
      "348: Animation, Action, Adventure\n",
      "349: nan\n",
      "350: Action, Adventure, Comedy\n",
      "351: Animation, Adventure, Drama\n",
      "352: Action, Adventure, Sci-Fi\n",
      "353: Animation, Adventure, Comedy\n",
      "354: Action, Adventure, Fantasy\n",
      "355: Animation, Adventure, Comedy\n",
      "356: Action, Adventure, Crime\n",
      "357: Animation, Adventure, Drama\n",
      "358: Action, Sci-Fi, Thriller\n",
      "359: Biography, Drama, History\n",
      "360: Drama, Mystery\n",
      "361: nan\n",
      "362: Comedy, Drama, Romance\n",
      "363: Action, Adventure, Fantasy\n",
      "364: Animation, Adventure, Comedy\n",
      "365: Action, Adventure, Comedy\n",
      "366: Action, Adventure, Crime\n",
      "367: Animation, Adventure, Comedy\n",
      "368: Action, Thriller\n",
      "369: Action, Adventure, Drama\n",
      "370: Crime, Drama, Musical\n",
      "371: Action, Adventure, Comedy\n",
      "372: nan\n",
      "373: Animation, Comedy, Family\n",
      "374: Action, Adventure, Drama\n",
      "375: Action, Adventure, Thriller\n",
      "376: Biography, Comedy, Drama\n",
      "377: Action, Sci-Fi, Thriller\n",
      "378: Comedy, Music, Romance\n",
      "379: Comedy, Romance, Sport\n",
      "380: Adventure, Family, Fantasy\n",
      "381: Action, Drama, History\n",
      "382: Comedy, Drama, Romance\n",
      "383: Comedy, Romance\n",
      "384: Horror, Mystery\n",
      "385: Comedy, Romance\n",
      "386: Animation, Adventure, Comedy\n",
      "387: Action, Mystery, Thriller\n",
      "388: Action, Adventure, Comedy\n",
      "389: Comedy, Family, Fantasy\n",
      "390: Action, Adventure, Thriller\n",
      "391: Drama, Mystery, Sci-Fi\n",
      "392: Action, Adventure, Drama\n",
      "393: Animation, Adventure, Comedy\n",
      "394: Adventure, Comedy, Family\n",
      "395: Adventure, Family, Fantasy\n",
      "396: Action, Crime, Mystery\n",
      "397: Action, Adventure, Fantasy\n",
      "398: Action, Adventure, Sci-Fi\n",
      "399: nan\n",
      "400: Action, Adventure, Thriller\n",
      "401: Comedy\n",
      "402: Adventure, Comedy, Family\n",
      "403: nan\n",
      "404: Comedy, Family\n",
      "405: Comedy\n",
      "406: Action, Crime, Thriller\n",
      "407: Comedy, Fantasy\n",
      "408: Action, Adventure, Crime\n",
      "409: Comedy, Drama, Romance\n",
      "410: Drama, History, Sport\n",
      "411: Animation, Adventure, Comedy\n",
      "412: Action, Adventure, Drama\n",
      "413: Action, Sci-Fi, Thriller\n",
      "414: Action, Comedy, Crime\n",
      "415: Action, Sci-Fi\n",
      "416: Action, Adventure, Fantasy\n",
      "417: Action, Drama\n",
      "418: Action, Sci-Fi\n",
      "419: Action, Sci-Fi\n",
      "420: Action, Sci-Fi\n",
      "421: Documentary, Drama, War\n",
      "422: Comedy, Sport\n",
      "423: Drama\n",
      "424: Drama, Mystery, Thriller\n",
      "425: Comedy, Drama, Romance\n",
      "426: Action, Mystery, Thriller\n",
      "427: Animation, Adventure, Comedy\n",
      "428: Comedy, Romance\n",
      "429: Animation, Action, Adventure\n",
      "430: Action, Adventure, Mystery\n",
      "431: Crime, Thriller\n",
      "432: Action, Mystery, Sci-Fi\n",
      "433: Action, Adventure, Sci-Fi\n",
      "434: Adventure, Family, Fantasy\n",
      "435: nan\n",
      "436: Animation, Adventure, Comedy\n",
      "437: Action, Adventure, Fantasy\n",
      "438: Animation, Adventure, Comedy\n",
      "439: Drama\n",
      "440: Action, Adventure, Sci-Fi\n",
      "441: Comedy, Romance\n",
      "442: Biography, Drama, Music\n",
      "443: Comedy, Romance\n",
      "444: Drama, Mystery, Thriller\n",
      "445: Action, Comedy, Drama\n",
      "446: Comedy, Romance\n",
      "447: Animation, Adventure, Comedy\n",
      "448: Animation, Adventure, Comedy\n",
      "449: Comedy, Crime, Sport\n",
      "450: Action, Adventure, Fantasy\n",
      "451: Comedy, Crime\n",
      "452: Action, Comedy, Crime\n",
      "453: Action, Adventure, Fantasy\n",
      "454: Action, Adventure, Sci-Fi\n",
      "455: Action, Crime, Drama\n",
      "456: Adventure, Comedy, Family\n",
      "457: Animation, Adventure, Comedy\n",
      "458: Adventure, Family, Fantasy\n",
      "459: Adventure, Family, Fantasy\n",
      "460: Action, Adventure, Romance\n",
      "461: nan\n",
      "462: Comedy, Drama\n",
      "463: Comedy\n",
      "464: Comedy, Drama, Romance\n",
      "465: Biography, Drama\n",
      "466: Drama, Music, Musical\n",
      "467: Comedy, Sport\n",
      "468: Animation, Adventure, Comedy\n",
      "469: Animation, Adventure, Comedy\n",
      "470: Comedy, Drama, Fantasy\n",
      "471: Crime, Drama, Thriller\n",
      "472: Animation, Adventure, Comedy\n",
      "473: Adventure, Comedy, Family\n",
      "474: Animation, Adventure, Comedy\n",
      "475: Mystery, Thriller\n",
      "476: Action, Adventure, Thriller\n",
      "477: Action, Adventure, Thriller\n",
      "478: Action, Adventure, Fantasy\n",
      "479: Action, Adventure, Sci-Fi\n",
      "480: Action, Adventure, Sci-Fi\n",
      "481: Comedy, Drama\n",
      "482: Comedy, Romance\n",
      "483: Action, Adventure, Comedy\n",
      "484: Action, Drama\n",
      "485: Animation, Adventure, Comedy\n",
      "486: Action, Mystery, Thriller\n",
      "487: Animation, Adventure, Comedy\n",
      "488: Animation, Adventure, Comedy\n",
      "489: Biography, Crime, Drama\n",
      "490: Action, Thriller\n",
      "491: nan\n",
      "492: Action, Adventure, Mystery\n",
      "493: Action, Comedy, Crime\n",
      "494: Animation, Adventure, Comedy\n",
      "495: Action, Adventure, Sci-Fi\n",
      "496: Action, Adventure, Family\n",
      "497: Action, Drama, Horror\n",
      "498: Animation, Adventure, Comedy\n",
      "499: Action, Adventure, Sci-Fi\n",
      "500: Action, Adventure, Fantasy\n",
      "501: Crime, Drama, Romance\n",
      "502: Drama\n",
      "503: Drama, Fantasy, Romance\n",
      "504: Comedy, Musical, Romance\n",
      "505: nan\n",
      "506: Comedy, Drama, Romance\n",
      "507: Action, Crime, Thriller\n",
      "508: Action, Adventure, Comedy\n",
      "509: Animation, Adventure, Comedy\n",
      "510: Animation, Action, Adventure\n",
      "511: Action, Adventure, Sci-Fi\n",
      "512: Action, Adventure, Sci-Fi\n",
      "513: Action, Comedy, Drama\n",
      "514: Animation, Adventure, Comedy\n",
      "515: Drama, Fantasy, Romance\n",
      "516: Animation, Adventure, Family\n",
      "517: Action, Adventure\n",
      "518: Action, Crime, Drama\n",
      "519: Action, Adventure, Mystery\n",
      "520: Action, Adventure, Family\n",
      "521: Action, Crime, Thriller\n",
      "522: Action, Comedy, Crime\n",
      "523: Biography, Drama, Sport\n",
      "524: Comedy\n",
      "525: Comedy, Drama, Romance\n",
      "526: Adventure, Drama, Fantasy\n",
      "527: Animation, Adventure, Comedy\n",
      "528: Comedy, Crime, Mystery\n",
      "529: Animation, Adventure, Comedy\n",
      "530: Action, Adventure, Mystery\n",
      "531: Action, Sci-Fi\n",
      "532: Action, Adventure, Sci-Fi\n",
      "533: Adventure, Comedy, Family\n",
      "534: Action, Adventure, Sci-Fi\n",
      "535: Animation, Action, Adventure\n",
      "536: Animation, Adventure, Comedy\n",
      "537: Action, Adventure, Sci-Fi\n",
      "538: Action, Adventure, Sci-Fi\n",
      "539: Action, Adventure, Fantasy\n",
      "540: Action, Adventure, Family\n",
      "541: Biography, Drama, History\n",
      "542: Drama, Western\n",
      "543: Action, Drama, Family\n",
      "544: Action, Adventure, Drama\n",
      "545: Animation, Adventure, Comedy\n",
      "546: Mystery, Thriller\n",
      "547: Comedy\n",
      "548: Comedy, Romance\n",
      "549: Action, Adventure, Fantasy\n",
      "550: Animation, Action, Comedy\n",
      "551: Action, Adventure, Family\n",
      "552: Action, Adventure, Sci-Fi\n",
      "553: Animation, Action, Adventure\n",
      "554: Animation, Adventure, Comedy\n",
      "555: Action, Adventure, Sci-Fi\n",
      "556: Adventure, Family, Fantasy\n",
      "557: Action, Sci-Fi\n",
      "558: Animation, Adventure, Comedy\n",
      "559: Adventure, Family, Fantasy\n",
      "560: Animation, Adventure, Comedy\n",
      "561: Drama\n",
      "562: Comedy, Romance\n",
      "563: Animation, Adventure, Comedy\n",
      "564: Comedy\n",
      "565: Animation, Adventure, Comedy\n",
      "566: Action, Drama, Sci-Fi\n",
      "567: Adventure, Drama, Fantasy\n",
      "568: Animation, Adventure, Comedy\n",
      "569: Action, Crime, Thriller\n",
      "570: Adventure, Family, Fantasy\n",
      "571: Action, Adventure, Mystery\n",
      "572: Animation, Short, Adventure, Comedy, Family\n",
      "573: Action, Adventure, Sci-Fi\n",
      "574: Action, Adventure, Thriller\n",
      "575: Action, Fantasy\n",
      "576: Animation, Action, Adventure\n",
      "577: Action, Adventure, Sci-Fi\n",
      "578: Animation, Adventure, Comedy\n",
      "579: Action, Adventure, Fantasy\n",
      "580: Action, Crime, Thriller\n",
      "581: Comedy\n",
      "582: Drama, History\n",
      "583: Biography, Drama, History\n",
      "584: Animation, Adventure, Comedy\n",
      "585: Action, Adventure, Sci-Fi\n",
      "586: Animation, Adventure, Comedy\n",
      "587: Animation, Adventure, Comedy\n",
      "588: Drama, Western\n",
      "589: Adventure, Drama, Fantasy\n",
      "590: Animation, Adventure, Comedy\n",
      "591: Animation, Adventure, Comedy\n",
      "592: Action, Adventure, Drama\n",
      "593: Animation, Adventure, Comedy\n",
      "594: Action, Adventure, Thriller\n",
      "595: Action, Adventure, Sci-Fi\n",
      "596: Action, Sci-Fi\n",
      "597: Action, Adventure, Comedy\n",
      "598: Action, Drama, Thriller\n",
      "599: Adventure, Fantasy\n",
      "600: Horror, Mystery, Thriller\n",
      "601: Comedy, Crime, Drama\n",
      "602: Comedy, Crime\n",
      "603: Crime, Drama\n",
      "604: Action, Comedy, Crime\n",
      "605: Animation, Adventure, Comedy\n",
      "606: Drama, Romance\n",
      "607: Drama, Sci-Fi, Thriller\n",
      "608: Action, Adventure, Sci-Fi\n",
      "609: Animation, Action, Adventure\n",
      "610: Animation, Adventure, Comedy\n",
      "611: Action, Adventure, Crime\n",
      "612: Action, Adventure, Fantasy\n",
      "613: Action, Adventure, Sci-Fi\n",
      "614: Adventure, Family, Fantasy\n",
      "615: Action, Adventure, Sci-Fi\n",
      "616: Action, Adventure, Horror\n",
      "617: Animation, Adventure, Comedy\n",
      "618: Action, Adventure, Sci-Fi\n",
      "619: Adventure, Drama, Fantasy\n",
      "620: Comedy\n",
      "621: Action, Comedy, Crime\n",
      "622: Action, Biography, Drama\n",
      "623: Animation, Action, Adventure\n",
      "624: Drama, Mystery, Thriller\n",
      "625: Action, Adventure, Mystery\n",
      "626: Action, Adventure, Comedy\n",
      "627: Action, Adventure, Sci-Fi\n",
      "628: Animation, Action, Adventure\n",
      "629: Action, Adventure, Sci-Fi\n",
      "630: Animation, Action, Adventure\n",
      "631: Adventure, Drama, Sci-Fi\n",
      "632: Action, Adventure, Sci-Fi\n",
      "633: Action, Adventure, Drama\n",
      "634: Action, Adventure, Comedy\n",
      "635: Adventure, Family, Fantasy\n"
     ]
    }
   ],
   "source": [
    "genres = []\n",
    "count = -1\n",
    "\n",
    "for genre in genre_list:\n",
    "    count += 1\n",
    "    print(f\"{count}: {genre}\")\n",
    "    genres += str(genre).split(', ')\n",
    "\n",
    "# [str.split(',') for str in genre_list]"
   ]
  },
  {
   "cell_type": "code",
   "execution_count": 5,
   "metadata": {},
   "outputs": [
    {
     "data": {
      "text/plain": [
       "['Action',\n",
       " 'Adventure',\n",
       " 'Animation',\n",
       " 'Biography',\n",
       " 'Comedy',\n",
       " 'Crime',\n",
       " 'Documentary',\n",
       " 'Drama',\n",
       " 'Family',\n",
       " 'Fantasy',\n",
       " 'History',\n",
       " 'Horror',\n",
       " 'Music',\n",
       " 'Musical',\n",
       " 'Mystery',\n",
       " 'Romance',\n",
       " 'Sci-Fi',\n",
       " 'Short',\n",
       " 'Sport',\n",
       " 'Thriller',\n",
       " 'War',\n",
       " 'Western']"
      ]
     },
     "execution_count": 5,
     "metadata": {},
     "output_type": "execute_result"
    }
   ],
   "source": [
    "# Remove duplicates\n",
    "genres = list(dict.fromkeys(genres))\n",
    "\n",
    "# Sort alphabetically\n",
    "genres.sort()\n",
    "\n",
    "# Drop 'nan' (last item)\n",
    "genres = genres[:-1]\n",
    "\n",
    "genres"
   ]
  },
  {
   "cell_type": "code",
   "execution_count": 8,
   "metadata": {},
   "outputs": [],
   "source": [
    "# Source: https://www.geeksforgeeks.org/text-analysis-in-python-3/\n",
    "from collections import Counter\n",
    "\n",
    "def count_words(text):     \n",
    "    text = text.lower() \n",
    "    skips = [\".\", \",\", \":\", \";\", \"'\", '\"'] \n",
    "    for ch in skips: \n",
    "        text = text.replace(ch, \"\") \n",
    "    word_counts = Counter(text.split(\" \")) \n",
    "    return word_counts\n",
    "\n",
    "def get_word_top50(select_genre):\n",
    "    plot_by_genre = \"\"\n",
    "\n",
    "    # Get plot from all movies that include the selected genre\n",
    "    for index, row in omdb_df.iterrows():\n",
    "        # Handle any error with missing genre\n",
    "        try:\n",
    "            if select_genre in omdb_df.loc[index, 'Genre']:\n",
    "                plot_by_genre += omdb_df.loc[index,'Plot'] + ' '\n",
    "        except:\n",
    "            pass\n",
    "\n",
    "        word_count = count_words(plot_by_genre)\n",
    "\n",
    "    # Save word count in a DataFrame\n",
    "    word_count_df = pd.DataFrame.from_dict(word_count, orient='index').reset_index()\n",
    "\n",
    "    # Rename columns\n",
    "    word_count_df = word_count_df.rename(columns={'index':'word', 0:'count'})\n",
    "\n",
    "    # Order by most common words\n",
    "    word_count_df = word_count_df.sort_values('count', ascending=False).reset_index()\n",
    "    word_count_df = word_count_df[['word', 'count']]\n",
    "\n",
    "    # Drop common words\n",
    "    ignore_words = ['the', 'a', 'to', 'and', 'of', 'by', 'his', 'in', 'is', 'are', 'a', 'an', 'with', 'from', 'when', 'as', 'on', 'for', ' ', '', 'who', 'at']\n",
    "\n",
    "    clean_word_count_df = word_count_df[:]\n",
    "\n",
    "    for index, row in word_count_df.iterrows():\n",
    "        if word_count_df.loc[index,'word'] in ignore_words:\n",
    "            clean_word_count_df = clean_word_count_df.drop(index)\n",
    "\n",
    "    # Keep only Top 50 words that appear more than once\n",
    "    return clean_word_count_df.head(50)"
   ]
  },
  {
   "cell_type": "code",
   "execution_count": 9,
   "metadata": {},
   "outputs": [
    {
     "data": {
      "image/png": "[encoded data removed]",
      "text/plain": [
       "<Figure size 1000x800 with 1 Axes>"
      ]
     },
     "metadata": {},
     "output_type": "display_data"
    }
   ],
   "source": [
    "# Select genre\n",
    "select_genre = genres[1]\n",
    "\n",
    "# Get Top 50 words\n",
    "genre_words = get_word_top50(select_genre)\n",
    "\n",
    "# Invert order to display in hbar chart \n",
    "genre_words = genre_words.sort_values('count')\n",
    "genre_words.plot.barh(x='word', y='count', figsize = (10,8), title = f\"Top 50 words for {select_genre} movies\", legend = False)\n",
    "plt.ylabel('Words')\n",
    "plt.xlabel('Count')\n",
    "plt.show()\n"
   ]
  },
  {
   "cell_type": "code",
   "execution_count": 16,
   "metadata": {},
   "outputs": [
    {
     "data": {
      "text/plain": [
       "{'word': ['boy',\n",
       "  'she',\n",
       "  'captain',\n",
       "  'james',\n",
       "  'them',\n",
       "  'between',\n",
       "  'can',\n",
       "  'own',\n",
       "  'home',\n",
       "  'has',\n",
       "  'himself',\n",
       "  'against',\n",
       "  'its',\n",
       "  'york',\n",
       "  'order',\n",
       "  'father',\n",
       "  'war',\n",
       "  'time',\n",
       "  'friends',\n",
       "  'help',\n",
       "  'evil',\n",
       "  'becomes',\n",
       "  'life',\n",
       "  'it',\n",
       "  'save',\n",
       "  'stop',\n",
       "  'where',\n",
       "  'while',\n",
       "  'be',\n",
       "  'family',\n",
       "  'earth',\n",
       "  'one',\n",
       "  'out',\n",
       "  'city',\n",
       "  'up',\n",
       "  'find',\n",
       "  'him',\n",
       "  'young',\n",
       "  'team',\n",
       "  'but',\n",
       "  'they',\n",
       "  'into',\n",
       "  'that',\n",
       "  'after',\n",
       "  'her',\n",
       "  'he',\n",
       "  'world',\n",
       "  'must',\n",
       "  'their',\n",
       "  'new'],\n",
       " 'count': [12,\n",
       "  12,\n",
       "  12,\n",
       "  12,\n",
       "  13,\n",
       "  13,\n",
       "  13,\n",
       "  13,\n",
       "  13,\n",
       "  13,\n",
       "  14,\n",
       "  14,\n",
       "  14,\n",
       "  14,\n",
       "  14,\n",
       "  14,\n",
       "  14,\n",
       "  14,\n",
       "  15,\n",
       "  16,\n",
       "  16,\n",
       "  16,\n",
       "  16,\n",
       "  16,\n",
       "  17,\n",
       "  18,\n",
       "  18,\n",
       "  18,\n",
       "  19,\n",
       "  19,\n",
       "  19,\n",
       "  20,\n",
       "  20,\n",
       "  20,\n",
       "  22,\n",
       "  22,\n",
       "  23,\n",
       "  25,\n",
       "  26,\n",
       "  26,\n",
       "  31,\n",
       "  33,\n",
       "  42,\n",
       "  44,\n",
       "  44,\n",
       "  45,\n",
       "  46,\n",
       "  52,\n",
       "  53,\n",
       "  53]}"
      ]
     },
     "execution_count": 16,
     "metadata": {},
     "output_type": "execute_result"
    }
   ],
   "source": [
    "genre_words.to_dict('list')"
   ]
  },
  {
   "cell_type": "markdown",
   "metadata": {},
   "source": [
    "## Gender pay gap"
   ]
  },
  {
   "cell_type": "code",
   "execution_count": 2,
   "metadata": {},
   "outputs": [],
   "source": [
    "# Import data\n",
    "actor_csv = Path('Datasets/actor.csv')\n",
    "actor_df = pd.read_csv(actor_csv)"
   ]
  },
  {
   "cell_type": "code",
   "execution_count": 7,
   "metadata": {},
   "outputs": [
    {
     "data": {
      "text/html": [
       "<div>\n",
       "<style scoped>\n",
       "    .dataframe tbody tr th:only-of-type {\n",
       "        vertical-align: middle;\n",
       "    }\n",
       "\n",
       "    .dataframe tbody tr th {\n",
       "        vertical-align: top;\n",
       "    }\n",
       "\n",
       "    .dataframe thead th {\n",
       "        text-align: right;\n",
       "    }\n",
       "</style>\n",
       "<table border=\"1\" class=\"dataframe\">\n",
       "  <thead>\n",
       "    <tr style=\"text-align: right;\">\n",
       "      <th></th>\n",
       "      <th>name</th>\n",
       "      <th>date_of_birth</th>\n",
       "      <th>birth_country</th>\n",
       "      <th>gender</th>\n",
       "      <th>networth</th>\n",
       "    </tr>\n",
       "  </thead>\n",
       "  <tbody>\n",
       "    <tr>\n",
       "      <th>2436</th>\n",
       "      <td>Tom Cruise</td>\n",
       "      <td>1962-07-03</td>\n",
       "      <td>USA</td>\n",
       "      <td>Male</td>\n",
       "      <td>600000000.0</td>\n",
       "    </tr>\n",
       "    <tr>\n",
       "      <th>2135</th>\n",
       "      <td>Robert De Niro</td>\n",
       "      <td>1943-08-17</td>\n",
       "      <td>USA</td>\n",
       "      <td>Male</td>\n",
       "      <td>500000000.0</td>\n",
       "    </tr>\n",
       "    <tr>\n",
       "      <th>842</th>\n",
       "      <td>George Clooney</td>\n",
       "      <td>1961-05-06</td>\n",
       "      <td>USA</td>\n",
       "      <td>Male</td>\n",
       "      <td>500000000.0</td>\n",
       "    </tr>\n",
       "    <tr>\n",
       "      <th>1722</th>\n",
       "      <td>Mel Gibson</td>\n",
       "      <td>1956-01-03</td>\n",
       "      <td>USA</td>\n",
       "      <td>Male</td>\n",
       "      <td>425000000.0</td>\n",
       "    </tr>\n",
       "    <tr>\n",
       "      <th>9</th>\n",
       "      <td>Adam Sandler</td>\n",
       "      <td>1966-09-09</td>\n",
       "      <td>USA</td>\n",
       "      <td>Male</td>\n",
       "      <td>420000000.0</td>\n",
       "    </tr>\n",
       "    <tr>\n",
       "      <th>...</th>\n",
       "      <td>...</td>\n",
       "      <td>...</td>\n",
       "      <td>...</td>\n",
       "      <td>...</td>\n",
       "      <td>...</td>\n",
       "    </tr>\n",
       "    <tr>\n",
       "      <th>65</th>\n",
       "      <td>Andrew Bryniarski</td>\n",
       "      <td>1969-02-13</td>\n",
       "      <td>USA</td>\n",
       "      <td>Male</td>\n",
       "      <td>300000.0</td>\n",
       "    </tr>\n",
       "    <tr>\n",
       "      <th>2131</th>\n",
       "      <td>Robbie Rist</td>\n",
       "      <td>1964-04-04</td>\n",
       "      <td>USA</td>\n",
       "      <td>Male</td>\n",
       "      <td>300000.0</td>\n",
       "    </tr>\n",
       "    <tr>\n",
       "      <th>1580</th>\n",
       "      <td>Luenell</td>\n",
       "      <td>1959-03-12</td>\n",
       "      <td>USA</td>\n",
       "      <td>Female</td>\n",
       "      <td>250000.0</td>\n",
       "    </tr>\n",
       "    <tr>\n",
       "      <th>690</th>\n",
       "      <td>Edward Furlong</td>\n",
       "      <td>1977-08-02</td>\n",
       "      <td>USA</td>\n",
       "      <td>Male</td>\n",
       "      <td>100000.0</td>\n",
       "    </tr>\n",
       "    <tr>\n",
       "      <th>1793</th>\n",
       "      <td>Mickey Rooney</td>\n",
       "      <td>1920-09-23</td>\n",
       "      <td>USA</td>\n",
       "      <td>Male</td>\n",
       "      <td>20000.0</td>\n",
       "    </tr>\n",
       "  </tbody>\n",
       "</table>\n",
       "<p>753 rows × 5 columns</p>\n",
       "</div>"
      ],
      "text/plain": [
       "                   name date_of_birth birth_country  gender     networth\n",
       "2436         Tom Cruise    1962-07-03           USA    Male  600000000.0\n",
       "2135     Robert De Niro    1943-08-17           USA    Male  500000000.0\n",
       "842      George Clooney    1961-05-06           USA    Male  500000000.0\n",
       "1722         Mel Gibson    1956-01-03           USA    Male  425000000.0\n",
       "9          Adam Sandler    1966-09-09           USA    Male  420000000.0\n",
       "...                 ...           ...           ...     ...          ...\n",
       "65    Andrew Bryniarski    1969-02-13           USA    Male     300000.0\n",
       "2131        Robbie Rist    1964-04-04           USA    Male     300000.0\n",
       "1580            Luenell    1959-03-12           USA  Female     250000.0\n",
       "690      Edward Furlong    1977-08-02           USA    Male     100000.0\n",
       "1793      Mickey Rooney    1920-09-23           USA    Male      20000.0\n",
       "\n",
       "[753 rows x 5 columns]"
      ]
     },
     "execution_count": 7,
     "metadata": {},
     "output_type": "execute_result"
    }
   ],
   "source": [
    "# Clean data = remove unecessary column + drop all rows with NaN\n",
    "clean_actor_df = actor_df[['name', 'date_of_birth', 'birth_country', 'gender', 'networth']]\n",
    "clean_actor_df = clean_actor_df.dropna(axis=0,how='any')\n",
    "\n",
    "# Remove richest actor (outlier)\n",
    "clean_actor_df = clean_actor_df.sort_values('networth', ascending=False)\n",
    "clean_actor_wo_outlier_df = clean_actor_df.loc[clean_actor_df['networth'] < 3.6e10,:]\n",
    "clean_actor_wo_outlier_df"
   ]
  },
  {
   "cell_type": "markdown",
   "metadata": {},
   "source": [
    "### Preliminary questions\n",
    "- How many men and women?\n",
    "- What is the average net worth per gender?\n",
    "- Who are the Top 10 men and women actors in terms of net worth?\n",
    "- Where are the actors from?"
   ]
  },
  {
   "cell_type": "code",
   "execution_count": 8,
   "metadata": {},
   "outputs": [
    {
     "name": "stdout",
     "output_type": "stream",
     "text": [
      "There are 496 male actors in the dataset.\n",
      "There are 257 female actors in the dataset.\n"
     ]
    }
   ],
   "source": [
    "# Create a DataFrame per gender\n",
    "actor_m_df = clean_actor_wo_outlier_df.loc[clean_actor_df['gender'] == 'Male',:]\n",
    "actor_f_df = clean_actor_df.loc[clean_actor_df['gender'] == 'Female',:]\n",
    "\n",
    "# Count number of data points\n",
    "print(f\"There are {len(actor_m_df)} male actors in the dataset.\")\n",
    "print(f\"There are {len(actor_f_df)} female actors in the dataset.\")"
   ]
  },
  {
   "cell_type": "code",
   "execution_count": 10,
   "metadata": {},
   "outputs": [
    {
     "name": "stdout",
     "output_type": "stream",
     "text": [
      "Male actors' average net worth is $39,556,492\n",
      "Female actors' average net worth is $29,617,704 (74.87% of Male actors' net worth)\n"
     ]
    }
   ],
   "source": [
    "# Calculate the mean net worth for M and F actors\n",
    "avg_networth_m = actor_m_df['networth'].mean()\n",
    "avg_networth_f = actor_f_df['networth'].mean()\n",
    "\n",
    "# Display results\n",
    "print(f\"Male actors' average net worth is ${avg_networth_m:,.0f}\")\n",
    "print(f\"Female actors' average net worth is ${avg_networth_f:,.0f} ({100*avg_networth_f/avg_networth_m:.2f}% of Male actors' net worth)\")"
   ]
  },
  {
   "cell_type": "code",
   "execution_count": 11,
   "metadata": {},
   "outputs": [],
   "source": [
    "# Top 10 richest actors\n",
    "top10_m = actor_m_df.sort_values('networth', ascending=False).head(10)\n",
    "top10_f = actor_f_df.sort_values('networth', ascending=False).head(10)"
   ]
  },
  {
   "cell_type": "code",
   "execution_count": 12,
   "metadata": {},
   "outputs": [
    {
     "data": {
      "text/plain": [
       "<Axes: >"
      ]
     },
     "execution_count": 12,
     "metadata": {},
     "output_type": "execute_result"
    },
    {
     "data": {
      "image/png": "[encoded data removed]",
      "text/plain": [
       "<Figure size 640x480 with 1 Axes>"
      ]
     },
     "metadata": {},
     "output_type": "display_data"
    }
   ],
   "source": [
    "top10_m.plot.bar()"
   ]
  },
  {
   "cell_type": "markdown",
   "metadata": {},
   "source": [
    "### Notes\n",
    "- The data for male actors is dominated by a single actor (Alan Howard) that is significantly richer than all the others\n",
    "- As the goal is to compare representative male actors to female one, we decided to remove this outlier for this part of the comparative analysis"
   ]
  },
  {
   "cell_type": "code",
   "execution_count": 13,
   "metadata": {},
   "outputs": [
    {
     "name": "stderr",
     "output_type": "stream",
     "text": [
      "C:\\Users\\User\\AppData\\Local\\Temp\\ipykernel_22980\\4063270583.py:9: UserWarning: FixedFormatter should only be used together with FixedLocator\n",
      "  ax.set_yticklabels([f'${int(amt):,}' for amt in ticks])\n"
     ]
    },
    {
     "data": {
      "text/plain": [
       "[Text(0, 0.0, '$0'),\n",
       " Text(0, 100000000.0, '$100,000,000'),\n",
       " Text(0, 200000000.0, '$200,000,000'),\n",
       " Text(0, 300000000.0, '$300,000,000'),\n",
       " Text(0, 400000000.0, '$400,000,000'),\n",
       " Text(0, 500000000.0, '$500,000,000'),\n",
       " Text(0, 600000000.0, '$600,000,000'),\n",
       " Text(0, 700000000.0, '$700,000,000')]"
      ]
     },
     "execution_count": 13,
     "metadata": {},
     "output_type": "execute_result"
    },
    {
     "data": {
      "image/png": "[encoded data removed]",
      "text/plain": [
       "<Figure size 800x500 with 1 Axes>"
      ]
     },
     "metadata": {},
     "output_type": "display_data"
    }
   ],
   "source": [
    "# Plot\n",
    "fig, ax = plt.subplots(1, 1, figsize=(8, 5))\n",
    "top10_m.plot.bar(x='name',title='Net worth of male actors', legend=False, ax=ax)\n",
    "plt.xticks(rotation=45, ha='right')\n",
    "plt.ylabel('Net worth (USD)')\n",
    "\n",
    "# Set ticks in USD with , thousands\n",
    "ticks = ax.get_yticks()\n",
    "ax.set_yticklabels([f'${int(amt):,}' for amt in ticks])"
   ]
  },
  {
   "cell_type": "code",
   "execution_count": null,
   "metadata": {},
   "outputs": [],
   "source": []
  },
  {
   "cell_type": "code",
   "execution_count": 14,
   "metadata": {},
   "outputs": [
    {
     "name": "stderr",
     "output_type": "stream",
     "text": [
      "C:\\Users\\User\\AppData\\Local\\Temp\\ipykernel_22980\\699714903.py:9: UserWarning: FixedFormatter should only be used together with FixedLocator\n",
      "  ax.set_yticklabels([f'${int(amt):,}' for amt in ticks])\n"
     ]
    },
    {
     "data": {
      "text/plain": [
       "[Text(0, 0.0, '$0'),\n",
       " Text(0, 50000000.0, '$50,000,000'),\n",
       " Text(0, 100000000.0, '$100,000,000'),\n",
       " Text(0, 150000000.0, '$150,000,000'),\n",
       " Text(0, 200000000.0, '$200,000,000'),\n",
       " Text(0, 250000000.0, '$250,000,000'),\n",
       " Text(0, 300000000.0, '$300,000,000'),\n",
       " Text(0, 350000000.0, '$350,000,000')]"
      ]
     },
     "execution_count": 14,
     "metadata": {},
     "output_type": "execute_result"
    },
    {
     "data": {
      "image/png": "[encoded data removed]",
      "text/plain": [
       "<Figure size 800x500 with 1 Axes>"
      ]
     },
     "metadata": {},
     "output_type": "display_data"
    }
   ],
   "source": [
    "# Plot\n",
    "fig, ax = plt.subplots(1, 1, figsize=(8, 5))\n",
    "top10_f.plot.bar(x='name',title='Net worth of female actors', legend=False, ax=ax)\n",
    "plt.xticks(rotation=45, ha='right')\n",
    "plt.ylabel('Net worth (USD)')\n",
    "\n",
    "# Set ticks in USD with , thousands\n",
    "ticks = ax.get_yticks()\n",
    "ax.set_yticklabels([f'${int(amt):,}' for amt in ticks])"
   ]
  },
  {
   "cell_type": "code",
   "execution_count": 15,
   "metadata": {},
   "outputs": [
    {
     "data": {
      "application/vnd.plotly.v1+json": {
       "config": {
        "plotlyServerURL": "https://plot.ly"
       },
       "data": [
        {
         "base": 0,
         "marker": {
          "color": "rgb(158,202,225)",
          "line": {
           "color": "rgb(8,48,107)",
           "width": 1.5
          }
         },
         "name": "Male Actors",
         "opacity": 0.7,
         "orientation": "h",
         "text": [
          "600000000.0",
          "500000000.0",
          "500000000.0",
          "425000000.0",
          "420000000.0",
          "400000000.0",
          "400000000.0",
          "400000000.0",
          "400000000.0",
          "375000000.0"
         ],
         "textposition": "auto",
         "texttemplate": "%{x:,s}(M$) ",
         "type": "bar",
         "x": [
          600000000,
          500000000,
          500000000,
          425000000,
          420000000,
          400000000,
          400000000,
          400000000,
          400000000,
          375000000
         ],
         "y": [
          1,
          2,
          3,
          4,
          5,
          6,
          7,
          8,
          9,
          10
         ]
        },
        {
         "base": [
          -300000000,
          -300000000,
          -250000000,
          -250000000,
          -250000000,
          -250000000,
          -250000000,
          -200000000,
          -180000000,
          -170000000
         ],
         "marker": {
          "color": "crimson",
          "line": {
           "color": "red",
           "width": 1.5
          }
         },
         "name": "Female Actors",
         "opacity": 0.7,
         "orientation": "h",
         "text": [
          "-300000000.0",
          "-300000000.0",
          "-250000000.0",
          "-250000000.0",
          "-250000000.0",
          "-250000000.0",
          "-250000000.0",
          "-200000000.0",
          "-180000000.0",
          "-170000000.0"
         ],
         "textposition": "auto",
         "texttemplate": "%{x:,s}(M$) ",
         "type": "bar",
         "x": [
          300000000,
          300000000,
          250000000,
          250000000,
          250000000,
          250000000,
          250000000,
          200000000,
          180000000,
          170000000
         ],
         "y": [
          1,
          2,
          3,
          4,
          5,
          6,
          7,
          8,
          9,
          10
         ]
        }
       ],
       "layout": {
        "bargap": 0.3,
        "barmode": "overlay",
        "height": 500,
        "legend": {
         "bgcolor": "rgba(255, 255, 255, 0)",
         "bordercolor": "rgba(255, 255, 255, 0)",
         "x": 0.8,
         "y": 0.01
        },
        "margin": {
         "b": 10,
         "l": 10,
         "r": 10,
         "t": 50
        },
        "template": {
         "data": {
          "bar": [
           {
            "error_x": {
             "color": "#2a3f5f"
            },
            "error_y": {
             "color": "#2a3f5f"
            },
            "marker": {
             "line": {
              "color": "#E5ECF6",
              "width": 0.5
             },
             "pattern": {
              "fillmode": "overlay",
              "size": 10,
              "solidity": 0.2
             }
            },
            "type": "bar"
           }
          ],
          "barpolar": [
           {
            "marker": {
             "line": {
              "color": "#E5ECF6",
              "width": 0.5
             },
             "pattern": {
              "fillmode": "overlay",
              "size": 10,
              "solidity": 0.2
             }
            },
            "type": "barpolar"
           }
          ],
          "carpet": [
           {
            "aaxis": {
             "endlinecolor": "#2a3f5f",
             "gridcolor": "white",
             "linecolor": "white",
             "minorgridcolor": "white",
             "startlinecolor": "#2a3f5f"
            },
            "baxis": {
             "endlinecolor": "#2a3f5f",
             "gridcolor": "white",
             "linecolor": "white",
             "minorgridcolor": "white",
             "startlinecolor": "#2a3f5f"
            },
            "type": "carpet"
           }
          ],
          "choropleth": [
           {
            "colorbar": {
             "outlinewidth": 0,
             "ticks": ""
            },
            "type": "choropleth"
           }
          ],
          "contour": [
           {
            "colorbar": {
             "outlinewidth": 0,
             "ticks": ""
            },
            "colorscale": [
             [
              0,
              "#0d0887"
             ],
             [
              0.1111111111111111,
              "#46039f"
             ],
             [
              0.2222222222222222,
              "#7201a8"
             ],
             [
              0.3333333333333333,
              "#9c179e"
             ],
             [
              0.4444444444444444,
              "#bd3786"
             ],
             [
              0.5555555555555556,
              "#d8576b"
             ],
             [
              0.6666666666666666,
              "#ed7953"
             ],
             [
              0.7777777777777778,
              "#fb9f3a"
             ],
             [
              0.8888888888888888,
              "#fdca26"
             ],
             [
              1,
              "#f0f921"
             ]
            ],
            "type": "contour"
           }
          ],
          "contourcarpet": [
           {
            "colorbar": {
             "outlinewidth": 0,
             "ticks": ""
            },
            "type": "contourcarpet"
           }
          ],
          "heatmap": [
           {
            "colorbar": {
             "outlinewidth": 0,
             "ticks": ""
            },
            "colorscale": [
             [
              0,
              "#0d0887"
             ],
             [
              0.1111111111111111,
              "#46039f"
             ],
             [
              0.2222222222222222,
              "#7201a8"
             ],
             [
              0.3333333333333333,
              "#9c179e"
             ],
             [
              0.4444444444444444,
              "#bd3786"
             ],
             [
              0.5555555555555556,
              "#d8576b"
             ],
             [
              0.6666666666666666,
              "#ed7953"
             ],
             [
              0.7777777777777778,
              "#fb9f3a"
             ],
             [
              0.8888888888888888,
              "#fdca26"
             ],
             [
              1,
              "#f0f921"
             ]
            ],
            "type": "heatmap"
           }
          ],
          "heatmapgl": [
           {
            "colorbar": {
             "outlinewidth": 0,
             "ticks": ""
            },
            "colorscale": [
             [
              0,
              "#0d0887"
             ],
             [
              0.1111111111111111,
              "#46039f"
             ],
             [
              0.2222222222222222,
              "#7201a8"
             ],
             [
              0.3333333333333333,
              "#9c179e"
             ],
             [
              0.4444444444444444,
              "#bd3786"
             ],
             [
              0.5555555555555556,
              "#d8576b"
             ],
             [
              0.6666666666666666,
              "#ed7953"
             ],
             [
              0.7777777777777778,
              "#fb9f3a"
             ],
             [
              0.8888888888888888,
              "#fdca26"
             ],
             [
              1,
              "#f0f921"
             ]
            ],
            "type": "heatmapgl"
           }
          ],
          "histogram": [
           {
            "marker": {
             "pattern": {
              "fillmode": "overlay",
              "size": 10,
              "solidity": 0.2
             }
            },
            "type": "histogram"
           }
          ],
          "histogram2d": [
           {
            "colorbar": {
             "outlinewidth": 0,
             "ticks": ""
            },
            "colorscale": [
             [
              0,
              "#0d0887"
             ],
             [
              0.1111111111111111,
              "#46039f"
             ],
             [
              0.2222222222222222,
              "#7201a8"
             ],
             [
              0.3333333333333333,
              "#9c179e"
             ],
             [
              0.4444444444444444,
              "#bd3786"
             ],
             [
              0.5555555555555556,
              "#d8576b"
             ],
             [
              0.6666666666666666,
              "#ed7953"
             ],
             [
              0.7777777777777778,
              "#fb9f3a"
             ],
             [
              0.8888888888888888,
              "#fdca26"
             ],
             [
              1,
              "#f0f921"
             ]
            ],
            "type": "histogram2d"
           }
          ],
          "histogram2dcontour": [
           {
            "colorbar": {
             "outlinewidth": 0,
             "ticks": ""
            },
            "colorscale": [
             [
              0,
              "#0d0887"
             ],
             [
              0.1111111111111111,
              "#46039f"
             ],
             [
              0.2222222222222222,
              "#7201a8"
             ],
             [
              0.3333333333333333,
              "#9c179e"
             ],
             [
              0.4444444444444444,
              "#bd3786"
             ],
             [
              0.5555555555555556,
              "#d8576b"
             ],
             [
              0.6666666666666666,
              "#ed7953"
             ],
             [
              0.7777777777777778,
              "#fb9f3a"
             ],
             [
              0.8888888888888888,
              "#fdca26"
             ],
             [
              1,
              "#f0f921"
             ]
            ],
            "type": "histogram2dcontour"
           }
          ],
          "mesh3d": [
           {
            "colorbar": {
             "outlinewidth": 0,
             "ticks": ""
            },
            "type": "mesh3d"
           }
          ],
          "parcoords": [
           {
            "line": {
             "colorbar": {
              "outlinewidth": 0,
              "ticks": ""
             }
            },
            "type": "parcoords"
           }
          ],
          "pie": [
           {
            "automargin": true,
            "type": "pie"
           }
          ],
          "scatter": [
           {
            "fillpattern": {
             "fillmode": "overlay",
             "size": 10,
             "solidity": 0.2
            },
            "type": "scatter"
           }
          ],
          "scatter3d": [
           {
            "line": {
             "colorbar": {
              "outlinewidth": 0,
              "ticks": ""
             }
            },
            "marker": {
             "colorbar": {
              "outlinewidth": 0,
              "ticks": ""
             }
            },
            "type": "scatter3d"
           }
          ],
          "scattercarpet": [
           {
            "marker": {
             "colorbar": {
              "outlinewidth": 0,
              "ticks": ""
             }
            },
            "type": "scattercarpet"
           }
          ],
          "scattergeo": [
           {
            "marker": {
             "colorbar": {
              "outlinewidth": 0,
              "ticks": ""
             }
            },
            "type": "scattergeo"
           }
          ],
          "scattergl": [
           {
            "marker": {
             "colorbar": {
              "outlinewidth": 0,
              "ticks": ""
             }
            },
            "type": "scattergl"
           }
          ],
          "scattermapbox": [
           {
            "marker": {
             "colorbar": {
              "outlinewidth": 0,
              "ticks": ""
             }
            },
            "type": "scattermapbox"
           }
          ],
          "scatterpolar": [
           {
            "marker": {
             "colorbar": {
              "outlinewidth": 0,
              "ticks": ""
             }
            },
            "type": "scatterpolar"
           }
          ],
          "scatterpolargl": [
           {
            "marker": {
             "colorbar": {
              "outlinewidth": 0,
              "ticks": ""
             }
            },
            "type": "scatterpolargl"
           }
          ],
          "scatterternary": [
           {
            "marker": {
             "colorbar": {
              "outlinewidth": 0,
              "ticks": ""
             }
            },
            "type": "scatterternary"
           }
          ],
          "surface": [
           {
            "colorbar": {
             "outlinewidth": 0,
             "ticks": ""
            },
            "colorscale": [
             [
              0,
              "#0d0887"
             ],
             [
              0.1111111111111111,
              "#46039f"
             ],
             [
              0.2222222222222222,
              "#7201a8"
             ],
             [
              0.3333333333333333,
              "#9c179e"
             ],
             [
              0.4444444444444444,
              "#bd3786"
             ],
             [
              0.5555555555555556,
              "#d8576b"
             ],
             [
              0.6666666666666666,
              "#ed7953"
             ],
             [
              0.7777777777777778,
              "#fb9f3a"
             ],
             [
              0.8888888888888888,
              "#fdca26"
             ],
             [
              1,
              "#f0f921"
             ]
            ],
            "type": "surface"
           }
          ],
          "table": [
           {
            "cells": {
             "fill": {
              "color": "#EBF0F8"
             },
             "line": {
              "color": "white"
             }
            },
            "header": {
             "fill": {
              "color": "#C8D4E3"
             },
             "line": {
              "color": "white"
             }
            },
            "type": "table"
           }
          ]
         },
         "layout": {
          "annotationdefaults": {
           "arrowcolor": "#2a3f5f",
           "arrowhead": 0,
           "arrowwidth": 1
          },
          "autotypenumbers": "strict",
          "coloraxis": {
           "colorbar": {
            "outlinewidth": 0,
            "ticks": ""
           }
          },
          "colorscale": {
           "diverging": [
            [
             0,
             "#8e0152"
            ],
            [
             0.1,
             "#c51b7d"
            ],
            [
             0.2,
             "#de77ae"
            ],
            [
             0.3,
             "#f1b6da"
            ],
            [
             0.4,
             "#fde0ef"
            ],
            [
             0.5,
             "#f7f7f7"
            ],
            [
             0.6,
             "#e6f5d0"
            ],
            [
             0.7,
             "#b8e186"
            ],
            [
             0.8,
             "#7fbc41"
            ],
            [
             0.9,
             "#4d9221"
            ],
            [
             1,
             "#276419"
            ]
           ],
           "sequential": [
            [
             0,
             "#0d0887"
            ],
            [
             0.1111111111111111,
             "#46039f"
            ],
            [
             0.2222222222222222,
             "#7201a8"
            ],
            [
             0.3333333333333333,
             "#9c179e"
            ],
            [
             0.4444444444444444,
             "#bd3786"
            ],
            [
             0.5555555555555556,
             "#d8576b"
            ],
            [
             0.6666666666666666,
             "#ed7953"
            ],
            [
             0.7777777777777778,
             "#fb9f3a"
            ],
            [
             0.8888888888888888,
             "#fdca26"
            ],
            [
             1,
             "#f0f921"
            ]
           ],
           "sequentialminus": [
            [
             0,
             "#0d0887"
            ],
            [
             0.1111111111111111,
             "#46039f"
            ],
            [
             0.2222222222222222,
             "#7201a8"
            ],
            [
             0.3333333333333333,
             "#9c179e"
            ],
            [
             0.4444444444444444,
             "#bd3786"
            ],
            [
             0.5555555555555556,
             "#d8576b"
            ],
            [
             0.6666666666666666,
             "#ed7953"
            ],
            [
             0.7777777777777778,
             "#fb9f3a"
            ],
            [
             0.8888888888888888,
             "#fdca26"
            ],
            [
             1,
             "#f0f921"
            ]
           ]
          },
          "colorway": [
           "#636efa",
           "#EF553B",
           "#00cc96",
           "#ab63fa",
           "#FFA15A",
           "#19d3f3",
           "#FF6692",
           "#B6E880",
           "#FF97FF",
           "#FECB52"
          ],
          "font": {
           "color": "#2a3f5f"
          },
          "geo": {
           "bgcolor": "white",
           "lakecolor": "white",
           "landcolor": "#E5ECF6",
           "showlakes": true,
           "showland": true,
           "subunitcolor": "white"
          },
          "hoverlabel": {
           "align": "left"
          },
          "hovermode": "closest",
          "mapbox": {
           "style": "light"
          },
          "paper_bgcolor": "white",
          "plot_bgcolor": "#E5ECF6",
          "polar": {
           "angularaxis": {
            "gridcolor": "white",
            "linecolor": "white",
            "ticks": ""
           },
           "bgcolor": "#E5ECF6",
           "radialaxis": {
            "gridcolor": "white",
            "linecolor": "white",
            "ticks": ""
           }
          },
          "scene": {
           "xaxis": {
            "backgroundcolor": "#E5ECF6",
            "gridcolor": "white",
            "gridwidth": 2,
            "linecolor": "white",
            "showbackground": true,
            "ticks": "",
            "zerolinecolor": "white"
           },
           "yaxis": {
            "backgroundcolor": "#E5ECF6",
            "gridcolor": "white",
            "gridwidth": 2,
            "linecolor": "white",
            "showbackground": true,
            "ticks": "",
            "zerolinecolor": "white"
           },
           "zaxis": {
            "backgroundcolor": "#E5ECF6",
            "gridcolor": "white",
            "gridwidth": 2,
            "linecolor": "white",
            "showbackground": true,
            "ticks": "",
            "zerolinecolor": "white"
           }
          },
          "shapedefaults": {
           "line": {
            "color": "#2a3f5f"
           }
          },
          "ternary": {
           "aaxis": {
            "gridcolor": "white",
            "linecolor": "white",
            "ticks": ""
           },
           "baxis": {
            "gridcolor": "white",
            "linecolor": "white",
            "ticks": ""
           },
           "bgcolor": "#E5ECF6",
           "caxis": {
            "gridcolor": "white",
            "linecolor": "white",
            "ticks": ""
           }
          },
          "title": {
           "x": 0.05
          },
          "xaxis": {
           "automargin": true,
           "gridcolor": "white",
           "linecolor": "white",
           "ticks": "",
           "title": {
            "standoff": 15
           },
           "zerolinecolor": "white",
           "zerolinewidth": 2
          },
          "yaxis": {
           "automargin": true,
           "gridcolor": "white",
           "linecolor": "white",
           "ticks": "",
           "title": {
            "standoff": 15
           },
           "zerolinecolor": "white",
           "zerolinewidth": 2
          }
         }
        },
        "title": {
         "font": {
          "color": "black",
          "family": "sans-serif",
          "size": 25
         },
         "text": "Gender Pay Gap (Top 10 Actors)",
         "x": 0.5
        },
        "xaxis": {
         "tickangle": -45
        },
        "yaxis": {
         "tickfont": {
          "size": 14
         },
         "title": {
          "font": {
           "size": 16
          },
          "text": "Top Actors"
         }
        }
       }
      }
     },
     "metadata": {},
     "output_type": "display_data"
    }
   ],
   "source": [
    "# Code from: https://python.plainenglish.io/how-to-create-a-beautify-tornado-chart-in-python-plotly-6c0519e185b4\n",
    "top10 = [1,2,3,4,5,6,7,8,9,10]\n",
    "sr1 = top10_m['networth'].to_list()\n",
    "sr2 = top10_f['networth'].to_list()\n",
    "\n",
    "#convert sr1\n",
    "def Convert(lst):\n",
    "    return [ -i for i in lst ]\n",
    "\n",
    "sr3 = Convert(sr2)\n",
    "fig = go.Figure()\n",
    "\n",
    "fig.add_trace(go.Bar(y=top10, x=sr1,\n",
    "                base=0,\n",
    "                marker_color='rgb(158,202,225)',\n",
    "                name='Male Actors',\n",
    "                marker_line_color='rgb(8,48,107)',\n",
    "                orientation='h',\n",
    "                marker_line_width=1.5,\n",
    "                opacity= 0.7,\n",
    "                text = sr1,\n",
    "                textposition='auto',\n",
    "                texttemplate = \"%{x:,s}(M$) \"\n",
    "))\n",
    "\n",
    "fig.add_trace(go.Bar(y=top10, x=sr2,\n",
    "                base=sr3,\n",
    "                marker_color='crimson',\n",
    "                name='Female Actors',\n",
    "                marker_line_color='red',\n",
    "                orientation='h',\n",
    "                marker_line_width=1.5,\n",
    "                opacity= 0.7,\n",
    "                text = sr3,\n",
    "                textposition='auto',\n",
    "                texttemplate = \"%{x:,s}(M$) \"\n",
    "))\n",
    "\n",
    "fig.update_layout(\n",
    "    height=500,\n",
    "     margin=dict(t=50,l=10,b=10,r=10),\n",
    "title_text=\"Gender Pay Gap (Top 10 Actors)\",\n",
    " title_font_family=\"sans-serif\",\n",
    " #legend_title_text=’Financials’,\n",
    " title_font_size = 25,\n",
    " title_font_color=\"black\",\n",
    " title_x=0.5 #to adjust the position along x-axis of the title\n",
    ")\n",
    "fig.update_layout(barmode='overlay', \n",
    "                  xaxis_tickangle=-45, \n",
    "                   legend=dict(\n",
    "                     x=0.80,\n",
    "                     y=0.01,\n",
    " bgcolor='rgba(255, 255, 255, 0)',\n",
    " bordercolor='rgba(255, 255, 255, 0)'\n",
    " ),\n",
    "                  yaxis=dict(\n",
    " title='Top Actors',\n",
    " titlefont_size=16,\n",
    " tickfont_size=14\n",
    " ),\n",
    "                  bargap=0.30)\n",
    "fig.show()"
   ]
  },
  {
   "cell_type": "markdown",
   "metadata": {},
   "source": [
    "### Country of origins"
   ]
  },
  {
   "cell_type": "code",
   "execution_count": 104,
   "metadata": {},
   "outputs": [],
   "source": [
    "countries_f = pd.DataFrame(actor_f_df['birth_country'].value_counts())\n",
    "countries_f = countries_f.rename(columns={'birth_country': 'Female Actors'})"
   ]
  },
  {
   "cell_type": "code",
   "execution_count": 105,
   "metadata": {},
   "outputs": [
    {
     "data": {
      "text/html": [
       "<div>\n",
       "<style scoped>\n",
       "    .dataframe tbody tr th:only-of-type {\n",
       "        vertical-align: middle;\n",
       "    }\n",
       "\n",
       "    .dataframe tbody tr th {\n",
       "        vertical-align: top;\n",
       "    }\n",
       "\n",
       "    .dataframe thead th {\n",
       "        text-align: right;\n",
       "    }\n",
       "</style>\n",
       "<table border=\"1\" class=\"dataframe\">\n",
       "  <thead>\n",
       "    <tr style=\"text-align: right;\">\n",
       "      <th></th>\n",
       "      <th>Female Actors</th>\n",
       "    </tr>\n",
       "  </thead>\n",
       "  <tbody>\n",
       "    <tr>\n",
       "      <th>USA</th>\n",
       "      <td>209</td>\n",
       "    </tr>\n",
       "    <tr>\n",
       "      <th>UK</th>\n",
       "      <td>24</td>\n",
       "    </tr>\n",
       "    <tr>\n",
       "      <th>Australia</th>\n",
       "      <td>4</td>\n",
       "    </tr>\n",
       "    <tr>\n",
       "      <th>Canada</th>\n",
       "      <td>4</td>\n",
       "    </tr>\n",
       "    <tr>\n",
       "      <th>Italy</th>\n",
       "      <td>3</td>\n",
       "    </tr>\n",
       "    <tr>\n",
       "      <th>France</th>\n",
       "      <td>3</td>\n",
       "    </tr>\n",
       "    <tr>\n",
       "      <th>Sweden</th>\n",
       "      <td>2</td>\n",
       "    </tr>\n",
       "    <tr>\n",
       "      <th>Brazil</th>\n",
       "      <td>1</td>\n",
       "    </tr>\n",
       "    <tr>\n",
       "      <th>Germany</th>\n",
       "      <td>1</td>\n",
       "    </tr>\n",
       "    <tr>\n",
       "      <th>Netherlands</th>\n",
       "      <td>1</td>\n",
       "    </tr>\n",
       "    <tr>\n",
       "      <th>South Africa</th>\n",
       "      <td>1</td>\n",
       "    </tr>\n",
       "    <tr>\n",
       "      <th>Ireland</th>\n",
       "      <td>1</td>\n",
       "    </tr>\n",
       "    <tr>\n",
       "      <th>Puerto Rico</th>\n",
       "      <td>1</td>\n",
       "    </tr>\n",
       "    <tr>\n",
       "      <th>Ukraine</th>\n",
       "      <td>1</td>\n",
       "    </tr>\n",
       "    <tr>\n",
       "      <th>United Kingdom</th>\n",
       "      <td>1</td>\n",
       "    </tr>\n",
       "  </tbody>\n",
       "</table>\n",
       "</div>"
      ],
      "text/plain": [
       "                Female Actors\n",
       "USA                       209\n",
       "UK                         24\n",
       "Australia                   4\n",
       "Canada                      4\n",
       "Italy                       3\n",
       "France                      3\n",
       "Sweden                      2\n",
       "Brazil                      1\n",
       "Germany                     1\n",
       "Netherlands                 1\n",
       "South Africa                1\n",
       "Ireland                     1\n",
       "Puerto Rico                 1\n",
       "Ukraine                     1\n",
       "United Kingdom              1"
      ]
     },
     "execution_count": 105,
     "metadata": {},
     "output_type": "execute_result"
    }
   ],
   "source": [
    "countries_f"
   ]
  },
  {
   "cell_type": "code",
   "execution_count": 106,
   "metadata": {},
   "outputs": [],
   "source": [
    "countries_m = pd.DataFrame(actor_m_df['birth_country'].value_counts())\n",
    "countries_m = countries_m.rename(columns={'birth_country': 'Male Actors'})"
   ]
  },
  {
   "cell_type": "code",
   "execution_count": 118,
   "metadata": {},
   "outputs": [
    {
     "data": {
      "text/html": [
       "<div>\n",
       "<style scoped>\n",
       "    .dataframe tbody tr th:only-of-type {\n",
       "        vertical-align: middle;\n",
       "    }\n",
       "\n",
       "    .dataframe tbody tr th {\n",
       "        vertical-align: top;\n",
       "    }\n",
       "\n",
       "    .dataframe thead th {\n",
       "        text-align: right;\n",
       "    }\n",
       "</style>\n",
       "<table border=\"1\" class=\"dataframe\">\n",
       "  <thead>\n",
       "    <tr style=\"text-align: right;\">\n",
       "      <th></th>\n",
       "      <th>Female Actors</th>\n",
       "      <th>Male Actors</th>\n",
       "    </tr>\n",
       "  </thead>\n",
       "  <tbody>\n",
       "    <tr>\n",
       "      <th>USA</th>\n",
       "      <td>209.0</td>\n",
       "      <td>357.0</td>\n",
       "    </tr>\n",
       "    <tr>\n",
       "      <th>UK</th>\n",
       "      <td>24.0</td>\n",
       "      <td>70.0</td>\n",
       "    </tr>\n",
       "    <tr>\n",
       "      <th>Canada</th>\n",
       "      <td>4.0</td>\n",
       "      <td>21.0</td>\n",
       "    </tr>\n",
       "    <tr>\n",
       "      <th>Australia</th>\n",
       "      <td>4.0</td>\n",
       "      <td>7.0</td>\n",
       "    </tr>\n",
       "    <tr>\n",
       "      <th>Ireland</th>\n",
       "      <td>1.0</td>\n",
       "      <td>5.0</td>\n",
       "    </tr>\n",
       "    <tr>\n",
       "      <th>Italy</th>\n",
       "      <td>3.0</td>\n",
       "      <td>4.0</td>\n",
       "    </tr>\n",
       "    <tr>\n",
       "      <th>Mexico</th>\n",
       "      <td>0.0</td>\n",
       "      <td>3.0</td>\n",
       "    </tr>\n",
       "    <tr>\n",
       "      <th>Japan</th>\n",
       "      <td>0.0</td>\n",
       "      <td>2.0</td>\n",
       "    </tr>\n",
       "    <tr>\n",
       "      <th>England</th>\n",
       "      <td>0.0</td>\n",
       "      <td>2.0</td>\n",
       "    </tr>\n",
       "    <tr>\n",
       "      <th>Germany</th>\n",
       "      <td>1.0</td>\n",
       "      <td>2.0</td>\n",
       "    </tr>\n",
       "    <tr>\n",
       "      <th>Romania</th>\n",
       "      <td>0.0</td>\n",
       "      <td>1.0</td>\n",
       "    </tr>\n",
       "    <tr>\n",
       "      <th>Nigeria</th>\n",
       "      <td>0.0</td>\n",
       "      <td>1.0</td>\n",
       "    </tr>\n",
       "    <tr>\n",
       "      <th>Puerto Rico</th>\n",
       "      <td>1.0</td>\n",
       "      <td>1.0</td>\n",
       "    </tr>\n",
       "    <tr>\n",
       "      <th>Singapore</th>\n",
       "      <td>0.0</td>\n",
       "      <td>1.0</td>\n",
       "    </tr>\n",
       "    <tr>\n",
       "      <th>Russia</th>\n",
       "      <td>0.0</td>\n",
       "      <td>1.0</td>\n",
       "    </tr>\n",
       "    <tr>\n",
       "      <th>Swaziland</th>\n",
       "      <td>0.0</td>\n",
       "      <td>1.0</td>\n",
       "    </tr>\n",
       "    <tr>\n",
       "      <th>Sweden</th>\n",
       "      <td>2.0</td>\n",
       "      <td>1.0</td>\n",
       "    </tr>\n",
       "    <tr>\n",
       "      <th>USSR</th>\n",
       "      <td>0.0</td>\n",
       "      <td>1.0</td>\n",
       "    </tr>\n",
       "    <tr>\n",
       "      <th>Wales</th>\n",
       "      <td>0.0</td>\n",
       "      <td>1.0</td>\n",
       "    </tr>\n",
       "    <tr>\n",
       "      <th>Netherlands</th>\n",
       "      <td>1.0</td>\n",
       "      <td>1.0</td>\n",
       "    </tr>\n",
       "    <tr>\n",
       "      <th>Kenya</th>\n",
       "      <td>0.0</td>\n",
       "      <td>1.0</td>\n",
       "    </tr>\n",
       "    <tr>\n",
       "      <th>Lebanon</th>\n",
       "      <td>0.0</td>\n",
       "      <td>1.0</td>\n",
       "    </tr>\n",
       "    <tr>\n",
       "      <th>Austria</th>\n",
       "      <td>0.0</td>\n",
       "      <td>1.0</td>\n",
       "    </tr>\n",
       "    <tr>\n",
       "      <th>India</th>\n",
       "      <td>0.0</td>\n",
       "      <td>1.0</td>\n",
       "    </tr>\n",
       "    <tr>\n",
       "      <th>Hong Kong</th>\n",
       "      <td>0.0</td>\n",
       "      <td>1.0</td>\n",
       "    </tr>\n",
       "    <tr>\n",
       "      <th>French Protectorate of Morocco [now Morocco]</th>\n",
       "      <td>0.0</td>\n",
       "      <td>1.0</td>\n",
       "    </tr>\n",
       "    <tr>\n",
       "      <th>France</th>\n",
       "      <td>3.0</td>\n",
       "      <td>1.0</td>\n",
       "    </tr>\n",
       "    <tr>\n",
       "      <th>Federal Republic of Germany</th>\n",
       "      <td>0.0</td>\n",
       "      <td>1.0</td>\n",
       "    </tr>\n",
       "    <tr>\n",
       "      <th>Cuba</th>\n",
       "      <td>0.0</td>\n",
       "      <td>1.0</td>\n",
       "    </tr>\n",
       "    <tr>\n",
       "      <th>China</th>\n",
       "      <td>0.0</td>\n",
       "      <td>1.0</td>\n",
       "    </tr>\n",
       "    <tr>\n",
       "      <th>Channel Islands</th>\n",
       "      <td>0.0</td>\n",
       "      <td>1.0</td>\n",
       "    </tr>\n",
       "    <tr>\n",
       "      <th>Brazil</th>\n",
       "      <td>1.0</td>\n",
       "      <td>1.0</td>\n",
       "    </tr>\n",
       "    <tr>\n",
       "      <th>Belgium</th>\n",
       "      <td>0.0</td>\n",
       "      <td>1.0</td>\n",
       "    </tr>\n",
       "    <tr>\n",
       "      <th>West Germany</th>\n",
       "      <td>0.0</td>\n",
       "      <td>1.0</td>\n",
       "    </tr>\n",
       "    <tr>\n",
       "      <th>South Africa</th>\n",
       "      <td>1.0</td>\n",
       "      <td>0.0</td>\n",
       "    </tr>\n",
       "    <tr>\n",
       "      <th>Ukraine</th>\n",
       "      <td>1.0</td>\n",
       "      <td>0.0</td>\n",
       "    </tr>\n",
       "    <tr>\n",
       "      <th>United Kingdom</th>\n",
       "      <td>1.0</td>\n",
       "      <td>0.0</td>\n",
       "    </tr>\n",
       "  </tbody>\n",
       "</table>\n",
       "</div>"
      ],
      "text/plain": [
       "                                              Female Actors  Male Actors\n",
       "USA                                                   209.0        357.0\n",
       "UK                                                     24.0         70.0\n",
       "Canada                                                  4.0         21.0\n",
       "Australia                                               4.0          7.0\n",
       "Ireland                                                 1.0          5.0\n",
       "Italy                                                   3.0          4.0\n",
       "Mexico                                                  0.0          3.0\n",
       "Japan                                                   0.0          2.0\n",
       "England                                                 0.0          2.0\n",
       "Germany                                                 1.0          2.0\n",
       "Romania                                                 0.0          1.0\n",
       "Nigeria                                                 0.0          1.0\n",
       "Puerto Rico                                             1.0          1.0\n",
       "Singapore                                               0.0          1.0\n",
       "Russia                                                  0.0          1.0\n",
       "Swaziland                                               0.0          1.0\n",
       "Sweden                                                  2.0          1.0\n",
       "USSR                                                    0.0          1.0\n",
       "Wales                                                   0.0          1.0\n",
       "Netherlands                                             1.0          1.0\n",
       "Kenya                                                   0.0          1.0\n",
       "Lebanon                                                 0.0          1.0\n",
       "Austria                                                 0.0          1.0\n",
       "India                                                   0.0          1.0\n",
       "Hong Kong                                               0.0          1.0\n",
       "French Protectorate of Morocco [now Morocco]            0.0          1.0\n",
       "France                                                  3.0          1.0\n",
       "Federal Republic of Germany                             0.0          1.0\n",
       "Cuba                                                    0.0          1.0\n",
       "China                                                   0.0          1.0\n",
       "Channel Islands                                         0.0          1.0\n",
       "Brazil                                                  1.0          1.0\n",
       "Belgium                                                 0.0          1.0\n",
       "West Germany                                            0.0          1.0\n",
       "South Africa                                            1.0          0.0\n",
       "Ukraine                                                 1.0          0.0\n",
       "United Kingdom                                          1.0          0.0"
      ]
     },
     "execution_count": 118,
     "metadata": {},
     "output_type": "execute_result"
    }
   ],
   "source": [
    "# Merge into one DataFrame\n",
    "actors_per_countries = countries_f.join(countries_m, how = 'outer')\n",
    "actors_per_countries = actors_per_countries.fillna(0)\n",
    "actors_per_countries = actors_per_countries.sort_values('Male Actors', ascending=False)\n",
    "actors_per_countries"
   ]
  },
  {
   "cell_type": "code",
   "execution_count": 127,
   "metadata": {},
   "outputs": [
    {
     "data": {
      "text/plain": [
       "<Axes: >"
      ]
     },
     "execution_count": 127,
     "metadata": {},
     "output_type": "execute_result"
    },
    {
     "data": {
      "image/png": "[encoded data removed]",
      "text/plain": [
       "<Figure size 1200x600 with 1 Axes>"
      ]
     },
     "metadata": {},
     "output_type": "display_data"
    }
   ],
   "source": [
    "actors_per_countries.plot.bar(y = ['Male Actors', 'Female Actors'], figsize=(12,6), width=0.9, align='center')"
   ]
  }
 ],
 "metadata": {
  "kernelspec": {
   "display_name": "Python 3 (ipykernel)",
   "language": "python",
   "name": "python3"
  },
  "language_info": {
   "codemirror_mode": {
    "name": "ipython",
    "version": 3
   },
   "file_extension": ".py",
   "mimetype": "text/x-python",
   "name": "python",
   "nbconvert_exporter": "python",
   "pygments_lexer": "ipython3",
   "version": "3.10.11"
  }
 },
 "nbformat": 4,
 "nbformat_minor": 2
}
