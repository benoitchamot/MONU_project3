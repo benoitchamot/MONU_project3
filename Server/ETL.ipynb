{
 "cells": [
  {
   "cell_type": "markdown",
   "metadata": {},
   "source": [
    "# ETL\n",
    "This notebook is used to extract and transform the data from the CSV files in `/Datasets` and load them into the SQLite database."
   ]
  },
  {
   "cell_type": "code",
   "execution_count": 1,
   "metadata": {},
   "outputs": [],
   "source": [
    "# Dependencies\n",
    "import pandas as pd\n",
    "from pathlib import Path\n",
    "import requests\n",
    "\n",
    "# Import SQL Alchemy\n",
    "from sqlalchemy import create_engine\n",
    "\n",
    "# Import and establish Base for which classes will be constructed \n",
    "import sqlalchemy\n",
    "from sqlalchemy.ext.declarative import declarative_base\n",
    "from sqlalchemy.orm import Session\n",
    "from sqlalchemy import create_engine, func\n",
    "from sqlalchemy import desc\n",
    "\n",
    "# Import modules to declare columns and column data types\n",
    "from sqlalchemy import Column, Integer, String, Float, Boolean\n",
    "\n",
    "# Local modules\n",
    "from config import omdb_api_key"
   ]
  },
  {
   "cell_type": "markdown",
   "metadata": {},
   "source": [
    "## Import CSVs\n",
    "#### Movies CSV\n",
    "- Source: `Datasets/movies.csv`\n",
    "- Table: `movies` in `movies_db.sqlite`\n",
    "#### Omdb CSV\n",
    "- Source: `Datasets/omdb.csv`\n",
    "- Table: `omdb` in `movies_db.sqlite`\n",
    "#### Actor CSV\n",
    "- Source: `Datasets/actor.csv`\n",
    "- Table: `actor` in `movies_db.sqlite`\n",
    "#### Character CSV\n",
    "- Source: `Datasets/character.csv`\n",
    "- Table: `character` in `movies_db.sqlite`"
   ]
  },
  {
   "cell_type": "code",
   "execution_count": 2,
   "metadata": {},
   "outputs": [
    {
     "data": {
      "text/plain": [
       "movieid           int64\n",
       "title            object\n",
       "mpaa_rating      object\n",
       "budget            int64\n",
       "gross             int64\n",
       "release_date     object\n",
       "genre            object\n",
       "runtime           int64\n",
       "rating          float64\n",
       "rating_count    float64\n",
       "summary          object\n",
       "dtype: object"
      ]
     },
     "execution_count": 2,
     "metadata": {},
     "output_type": "execute_result"
    }
   ],
   "source": [
    "# Get the movies data\n",
    "movies_csv = Path('../Datasets/movies.csv')\n",
    "movies_df = pd.read_csv(movies_csv)\n",
    "\n",
    "# Get the datatype from the DataFrame\n",
    "movies_df.dtypes"
   ]
  },
  {
   "cell_type": "code",
   "execution_count": 3,
   "metadata": {},
   "outputs": [
    {
     "data": {
      "text/plain": [
       "Title            object\n",
       "Year             object\n",
       "Rated            object\n",
       "Released         object\n",
       "Runtime          object\n",
       "Genre            object\n",
       "Director         object\n",
       "Writer           object\n",
       "Actors           object\n",
       "Plot             object\n",
       "Language         object\n",
       "Country          object\n",
       "Awards           object\n",
       "Poster           object\n",
       "Ratings          object\n",
       "Metascore       float64\n",
       "imdbRating      float64\n",
       "imdbVotes        object\n",
       "imdbID           object\n",
       "Type             object\n",
       "DVD              object\n",
       "BoxOffice        object\n",
       "Production       object\n",
       "Website         float64\n",
       "Response           bool\n",
       "Error            object\n",
       "totalSeasons    float64\n",
       "dtype: object"
      ]
     },
     "execution_count": 3,
     "metadata": {},
     "output_type": "execute_result"
    }
   ],
   "source": [
    "# Get the omdb data\n",
    "omdb_csv = Path('../Datasets/omdb.csv')\n",
    "omdb_movies_df = pd.read_csv(omdb_csv)\n",
    "\n",
    "# Get the datatype from the DataFrame\n",
    "omdb_movies_df.dtypes"
   ]
  },
  {
   "cell_type": "code",
   "execution_count": 4,
   "metadata": {},
   "outputs": [],
   "source": [
    "# Removing rows with no data or irrelevant data\n",
    "omdb_movies_df.drop(omdb_movies_df.loc[omdb_movies_df['Error'] == 'Movie not found!'].index, inplace=True)\n",
    "omdb_movies_df.drop(omdb_movies_df.loc[omdb_movies_df['Type'] == 'series'].index, inplace=True)"
   ]
  },
  {
   "cell_type": "code",
   "execution_count": 5,
   "metadata": {},
   "outputs": [
    {
     "data": {
      "text/plain": [
       "actorid            int64\n",
       "name              object\n",
       "date_of_birth     object\n",
       "birth_city        object\n",
       "birth_country     object\n",
       "height_inches    float64\n",
       "biography         object\n",
       "gender            object\n",
       "ethnicity         object\n",
       "networth         float64\n",
       "dtype: object"
      ]
     },
     "execution_count": 5,
     "metadata": {},
     "output_type": "execute_result"
    }
   ],
   "source": [
    "# Get the actors data\n",
    "actor_df = Path('../Datasets/actor.csv')\n",
    "actor_df = pd.read_csv(actor_df)\n",
    "\n",
    "# Get the datatype from the DataFrame\n",
    "actor_df.dtypes"
   ]
  },
  {
   "cell_type": "code",
   "execution_count": 6,
   "metadata": {},
   "outputs": [
    {
     "data": {
      "text/plain": [
       "movieid             int64\n",
       "actorid             int64\n",
       "character_name     object\n",
       "creditorder         int64\n",
       "pay               float64\n",
       "screentime         object\n",
       "dtype: object"
      ]
     },
     "execution_count": 6,
     "metadata": {},
     "output_type": "execute_result"
    }
   ],
   "source": [
    "# Get the character data\n",
    "characters_df = Path('../Datasets/character.csv')\n",
    "characters_df = pd.read_csv(characters_df)\n",
    "\n",
    "# Get the datatype from the DataFrame\n",
    "characters_df.dtypes"
   ]
  },
  {
   "cell_type": "code",
   "execution_count": 7,
   "metadata": {},
   "outputs": [],
   "source": [
    "# Get Base\n",
    "Base = declarative_base()"
   ]
  },
  {
   "cell_type": "code",
   "execution_count": 8,
   "metadata": {},
   "outputs": [],
   "source": [
    "# Create movies class\n",
    "class Movies(Base):\n",
    "    __tablename__ = 'movies'\n",
    "    movieid = Column(Integer, primary_key=True)\n",
    "    title = Column(String)\n",
    "    mpaa_rating = Column(String)\n",
    "    budget = Column(String)\n",
    "    gross = Column(String)\n",
    "    release_date = Column(String)\n",
    "    genre = Column(String)\n",
    "    runtime = Column(Integer)\n",
    "    rating = Column(Float)\n",
    "    rating_count = Column(Float)\n",
    "    summary = Column(String)     "
   ]
  },
  {
   "cell_type": "code",
   "execution_count": 9,
   "metadata": {},
   "outputs": [],
   "source": [
    "# Create omdb class\n",
    "class Omdb(Base):\n",
    "    __tablename__ = 'omdb'\n",
    "    id = Column(Integer, primary_key=True)\n",
    "    Title = Column(String)\n",
    "    Year = Column(Integer)\n",
    "    Rated = Column(String)\n",
    "    Released = Column(String)\n",
    "    Runtime = Column(String)\n",
    "    Genre = Column(String)\n",
    "    Director = Column(String)   \n",
    "    Writer = Column(String)\n",
    "    Actors = Column(String)\n",
    "    Plot = Column(String)\n",
    "    Language = Column(String)\n",
    "    Country = Column(String)\n",
    "    Awards = Column(String)\n",
    "    Poster = Column(String)\n",
    "    Ratings = Column(String)\n",
    "    Metascore = Column(Float)\n",
    "    imdbRating = Column(Float)\n",
    "    imdbVotes = Column(String)\n",
    "    imdbID = Column(String)\n",
    "    Type = Column(String)\n",
    "    DVD = Column(String)\n",
    "    BoxOffice = Column(String)\n",
    "    Production = Column(String)"
   ]
  },
  {
   "cell_type": "code",
   "execution_count": 10,
   "metadata": {},
   "outputs": [],
   "source": [
    "# Create actors class\n",
    "class Actor(Base):\n",
    "    __tablename__ = 'actor'\n",
    "    actorid = Column(Integer, primary_key=True)\n",
    "    name = Column(String)\n",
    "    date_of_birth = Column(String)\n",
    "    birth_city = Column(String)\n",
    "    birth_country = Column(String)\n",
    "    height_inches = Column(Float)\n",
    "    biography = Column(String) \n",
    "    gender = Column(String)\n",
    "    ethnicity = Column(String)\n",
    "    networth = Column(Float)"
   ]
  },
  {
   "cell_type": "code",
   "execution_count": 11,
   "metadata": {},
   "outputs": [],
   "source": [
    "# Create character class\n",
    "class Character(Base):\n",
    "    __tablename__ = 'character'\n",
    "    id = Column(Integer, primary_key=True)\n",
    "    movieid = Column(Integer)\n",
    "    actorid = Column(Integer)\n",
    "    character_name = Column(String)"
   ]
  },
  {
   "cell_type": "code",
   "execution_count": 12,
   "metadata": {},
   "outputs": [],
   "source": [
    "# Create a connection to a SQLite database\n",
    "engine = create_engine('sqlite:///movies_db.sqlite')\n",
    "\n",
    "# Create the tables within the database\n",
    "Base.metadata.create_all(engine)\n",
    "# Start session\n",
    "session = Session(bind=engine)"
   ]
  },
  {
   "cell_type": "code",
   "execution_count": 13,
   "metadata": {},
   "outputs": [
    {
     "name": "stdout",
     "output_type": "stream",
     "text": [
      "636 rows ready for commit.\n"
     ]
    }
   ],
   "source": [
    "# Loop through movies DataFrame and retrieve data\n",
    "for index, row in movies_df.iterrows():\n",
    "    movieid = int(movies_df.loc[index,'movieid'])\n",
    "    title = movies_df.loc[index,'title']\n",
    "    mpaa_rating = movies_df.loc[index,'mpaa_rating']\n",
    "    budget = movies_df.loc[index,'budget']\n",
    "    gross = movies_df.loc[index,'gross']\n",
    "    release_date = movies_df.loc[index,'release_date']\n",
    "    genre = movies_df.loc[index,'genre']\n",
    "    runtime = movies_df.loc[index,'runtime']\n",
    "    rating = movies_df.loc[index,'rating']\n",
    "    rating_count = movies_df.loc[index,'rating_count']\n",
    "    summary = movies_df.loc[index,'summary']\n",
    "\n",
    "    # Add data to database\n",
    "    session.add(Movies(\n",
    "        movieid = movieid,\n",
    "        title = title,\n",
    "        mpaa_rating = mpaa_rating,\n",
    "        budget = budget,\n",
    "        gross = gross,\n",
    "        release_date = release_date,\n",
    "        genre = genre,\n",
    "        runtime = runtime,\n",
    "        rating = rating,\n",
    "        rating_count = rating_count,\n",
    "        summary = summary\n",
    "    ))\n",
    "\n",
    "print(f\"{len(movies_df)} rows ready for commit.\")\n"
   ]
  },
  {
   "cell_type": "code",
   "execution_count": 14,
   "metadata": {},
   "outputs": [
    {
     "name": "stdout",
     "output_type": "stream",
     "text": [
      "624 rows ready for commit.\n"
     ]
    }
   ],
   "source": [
    "# Loop through omdb DataFrame and retrieve data\n",
    "for index, row in omdb_movies_df.iterrows():   \n",
    "    id = index\n",
    "    Title = omdb_movies_df.loc[index,'Title']\n",
    "    Year = int(omdb_movies_df.loc[index,'Year'])\n",
    "    Rated = omdb_movies_df.loc[index,'Rated']\n",
    "    Released = omdb_movies_df.loc[index,'Released']\n",
    "    Runtime = omdb_movies_df.loc[index,'Runtime']\n",
    "    Genre = omdb_movies_df.loc[index,'Genre']\n",
    "    Director = omdb_movies_df.loc[index,'Director']\n",
    "    Writer = omdb_movies_df.loc[index,'Writer']\n",
    "    Actors = omdb_movies_df.loc[index,'Actors']\n",
    "    Plot = omdb_movies_df.loc[index,'Plot']\n",
    "    Language = omdb_movies_df.loc[index,'Language']\n",
    "    Country = omdb_movies_df.loc[index,'Country']\n",
    "    Awards = omdb_movies_df.loc[index,'Awards']\n",
    "    Poster = omdb_movies_df.loc[index,'Poster']\n",
    "    Ratings = omdb_movies_df.loc[index,'Ratings']\n",
    "    Metascore = omdb_movies_df.loc[index,'Metascore']\n",
    "    imdbRating = omdb_movies_df.loc[index,'imdbRating']\n",
    "    imdbVotes = omdb_movies_df.loc[index,'imdbVotes']\n",
    "    imdbID = omdb_movies_df.loc[index,'imdbID']\n",
    "    Type = omdb_movies_df.loc[index,'Type']\n",
    "    DVD = omdb_movies_df.loc[index,'DVD']\n",
    "    BoxOffice = omdb_movies_df.loc[index,'BoxOffice']\n",
    "    Production = omdb_movies_df.loc[index,'Production']\n",
    "\n",
    "\n",
    "    # Add data to database\n",
    "    session.add(Omdb(\n",
    "        id = id,\n",
    "        Title =  Title,\n",
    "        Year =   Year,\n",
    "        Rated =   Rated,\n",
    "        Released =  Released,\n",
    "        Runtime =  Runtime,\n",
    "        Genre =   Genre,\n",
    "        Director =  Director,\n",
    "        Writer =   Writer,\n",
    "        Actors =   Actors,\n",
    "        Plot =   Plot,\n",
    "        Language =  Language,\n",
    "        Country =   Country,\n",
    "        Awards =   Awards,\n",
    "        Poster =   Poster,\n",
    "        Ratings = Ratings,\n",
    "        Metascore =  Metascore,\n",
    "        imdbRating =  imdbRating,\n",
    "        imdbVotes = imdbVotes,\n",
    "        imdbID = imdbID,\n",
    "        Type = Type,\n",
    "        DVD =   DVD,\n",
    "        BoxOffice =  BoxOffice,\n",
    "        Production = Production\n",
    "    ))\n",
    "print(f\"{len(omdb_movies_df)} rows ready for commit.\")"
   ]
  },
  {
   "cell_type": "code",
   "execution_count": 15,
   "metadata": {},
   "outputs": [
    {
     "name": "stdout",
     "output_type": "stream",
     "text": [
      "2599 rows ready for commit.\n"
     ]
    }
   ],
   "source": [
    "# Loop through actor DataFrame and retrieve data\n",
    "for index, row in actor_df.iterrows():\n",
    "    actorid = int(actor_df.loc[index,'actorid'])\n",
    "    name = actor_df.loc[index,'name']\n",
    "    date_of_birth = actor_df.loc[index,'date_of_birth']\n",
    "    birth_city = actor_df.loc[index,'birth_city']\n",
    "    birth_country = actor_df.loc[index,'birth_country']\n",
    "    height_inches = actor_df.loc[index,'height_inches']\n",
    "    biography = actor_df.loc[index,'biography']\n",
    "    gender = actor_df.loc[index,'gender']\n",
    "    ethnicity = actor_df.loc[index,'ethnicity']\n",
    "    networth = actor_df.loc[index,'networth']\n",
    "    \n",
    "    # Add data to database\n",
    "    session.add(Actor(\n",
    "        actorid = actorid,\n",
    "        name = name,\n",
    "        date_of_birth = date_of_birth,\n",
    "        birth_city = birth_city,\n",
    "        birth_country = birth_country,\n",
    "        height_inches = height_inches,\n",
    "        biography = biography,\n",
    "        gender = gender,\n",
    "        ethnicity = ethnicity,\n",
    "        networth = networth\n",
    "    ))\n",
    "  \n",
    "print(f\"{len(actor_df)} rows ready for commit.\")"
   ]
  },
  {
   "cell_type": "code",
   "execution_count": 16,
   "metadata": {},
   "outputs": [
    {
     "name": "stdout",
     "output_type": "stream",
     "text": [
      "4319 rows ready for commit.\n"
     ]
    }
   ],
   "source": [
    "# Loop through characters DataFrame and retrieve data\n",
    "for index, row in characters_df.iterrows():\n",
    "    id = index\n",
    "    movieid = int(characters_df.loc[index,'movieid'])\n",
    "    actorid = int(characters_df.loc[index,'actorid'])\n",
    "    character_name = characters_df.loc[index,'character_name']\n",
    "\n",
    "    # Add data to database\n",
    "    session.add(Character(\n",
    "    id = id,\n",
    "    movieid = movieid,\n",
    "    actorid = actorid,\n",
    "    character_name = character_name\n",
    "\n",
    "    ))\n",
    "print(f\"{len(characters_df)} rows ready for commit.\")"
   ]
  },
  {
   "cell_type": "code",
   "execution_count": 17,
   "metadata": {},
   "outputs": [],
   "source": [
    "# Commit changes to session\n",
    "session.commit()\n",
    "\n",
    "# Close session\n",
    "session.close()"
   ]
  },
  {
   "cell_type": "code",
   "execution_count": null,
   "metadata": {},
   "outputs": [],
   "source": []
  }
 ],
 "metadata": {
  "kernelspec": {
   "display_name": "Python 3 (ipykernel)",
   "language": "python",
   "name": "python3"
  },
  "language_info": {
   "codemirror_mode": {
    "name": "ipython",
    "version": 3
   },
   "file_extension": ".py",
   "mimetype": "text/x-python",
   "name": "python",
   "nbconvert_exporter": "python",
   "pygments_lexer": "ipython3",
   "version": "3.10.11"
  }
 },
 "nbformat": 4,
 "nbformat_minor": 2
}
