{
 "cells": [
  {
   "cell_type": "markdown",
   "metadata": {},
   "source": [
    "# ETL\n",
    "This notebook is used to extract and transform the data from the CSV files in `/Datasets` and load them into the SQLite database."
   ]
  },
  {
   "cell_type": "code",
   "execution_count": 1,
   "metadata": {},
   "outputs": [],
   "source": [
    "# Dependencies\n",
    "import pandas as pd\n",
    "from pathlib import Path\n",
    "import requests\n",
    "\n",
    "# Import SQL Alchemy\n",
    "from sqlalchemy import create_engine\n",
    "\n",
    "# Import and establish Base for which classes will be constructed \n",
    "import sqlalchemy\n",
    "from sqlalchemy.ext.declarative import declarative_base\n",
    "from sqlalchemy.orm import Session\n",
    "from sqlalchemy import create_engine, func\n",
    "from sqlalchemy import desc\n",
    "\n",
    "# Import modules to declare columns and column data types\n",
    "from sqlalchemy import Column, Integer, String, Float, Boolean\n",
    "\n",
    "# Local modules\n",
    "from config import omdb_api_key"
   ]
  },
  {
   "cell_type": "markdown",
   "metadata": {},
   "source": [
    "## Import Movies CSV\n",
    "- Source: `Datasets/movies.csv`\n",
    "- Table: `movies` in `movies_db.sqlite`"
   ]
  },
  {
   "cell_type": "code",
   "execution_count": 2,
   "metadata": {},
   "outputs": [
    {
     "data": {
      "text/plain": [
       "movieid           int64\n",
       "title            object\n",
       "mpaa_rating      object\n",
       "budget           object\n",
       "gross            object\n",
       "release_date     object\n",
       "genre            object\n",
       "runtime          object\n",
       "rating          float64\n",
       "rating_count    float64\n",
       "summary          object\n",
       "dtype: object"
      ]
     },
     "execution_count": 2,
     "metadata": {},
     "output_type": "execute_result"
    }
   ],
   "source": [
    "# Get the movies data\n",
    "movies_csv = Path('../Datasets/movies.csv')\n",
    "movies_df = pd.read_csv(movies_csv)\n",
    "\n",
    "# Get the datatype from the DataFrame\n",
    "movies_df.dtypes"
   ]
  },
  {
   "cell_type": "code",
   "execution_count": 3,
   "metadata": {},
   "outputs": [],
   "source": [
    "# Get Base\n",
    "Base = declarative_base()"
   ]
  },
  {
   "cell_type": "code",
   "execution_count": 4,
   "metadata": {},
   "outputs": [],
   "source": [
    "# Create movies class\n",
    "class Movies(Base):\n",
    "    __tablename__ = 'movies'\n",
    "    movieid = Column(Integer, primary_key=True)\n",
    "    title = Column(String)\n",
    "    mpaa_rating = Column(String)\n",
    "    budget = Column(String)\n",
    "    gross = Column(String)\n",
    "    release_date = Column(String)\n",
    "    genre = Column(String)\n",
    "    runtime = Column(Integer)\n",
    "    rating = Column(Float)\n",
    "    rating_count = Column(Float)\n",
    "    summary = Column(String)     "
   ]
  },
  {
   "cell_type": "code",
   "execution_count": 5,
   "metadata": {},
   "outputs": [],
   "source": [
    "# Create a connection to a SQLite database\n",
    "engine = create_engine('sqlite:///movies_db.sqlite')\n",
    "\n",
    "# Create the tables within the database\n",
    "Base.metadata.create_all(engine)\n",
    "# Start session\n",
    "session = Session(bind=engine)"
   ]
  },
  {
   "cell_type": "code",
   "execution_count": 6,
   "metadata": {},
   "outputs": [
    {
     "name": "stdout",
     "output_type": "stream",
     "text": [
      "636 rows ready for commit.\n"
     ]
    }
   ],
   "source": [
    "# Loop through DataFrame and retrieve data\n",
    "for index, row in movies_df.iterrows():\n",
    "    movieid = int(movies_df.loc[index,'movieid'])\n",
    "    title = movies_df.loc[index,'title']\n",
    "    mpaa_rating = movies_df.loc[index,'mpaa_rating']\n",
    "    budget = movies_df.loc[index,'budget']\n",
    "    gross = movies_df.loc[index,'gross']\n",
    "    release_date = movies_df.loc[index,'release_date']\n",
    "    genre = movies_df.loc[index,'genre']\n",
    "    runtime = movies_df.loc[index,'runtime']\n",
    "    rating = movies_df.loc[index,'rating']\n",
    "    rating_count = movies_df.loc[index,'rating_count']\n",
    "    summary = movies_df.loc[index,'summary']\n",
    "\n",
    "    # Add data to database\n",
    "    session.add(Movies(\n",
    "        movieid = movieid,\n",
    "        title = title,\n",
    "        mpaa_rating = mpaa_rating,\n",
    "        budget = budget,\n",
    "        gross = gross,\n",
    "        release_date = release_date,\n",
    "        genre = genre,\n",
    "        runtime = runtime,\n",
    "        rating = rating,\n",
    "        rating_count = rating_count,\n",
    "        summary = summary\n",
    "    ))\n",
    "\n",
    "print(f\"{len(movies_df)} rows ready for commit.\")\n"
   ]
  },
  {
   "cell_type": "code",
   "execution_count": 8,
   "metadata": {},
   "outputs": [],
   "source": [
    "# Commit changes to session\n",
    "session.commit()\n",
    "\n",
    "# Close session\n",
    "session.close()"
   ]
  },
  {
   "cell_type": "code",
   "execution_count": null,
   "metadata": {},
   "outputs": [],
   "source": []
  }
 ],
 "metadata": {
  "kernelspec": {
   "display_name": "dev",
   "language": "python",
   "name": "python3"
  },
  "language_info": {
   "codemirror_mode": {
    "name": "ipython",
    "version": 3
   },
   "file_extension": ".py",
   "mimetype": "text/x-python",
   "name": "python",
   "nbconvert_exporter": "python",
   "pygments_lexer": "ipython3",
   "version": "3.10.11"
  },
  "orig_nbformat": 4
 },
 "nbformat": 4,
 "nbformat_minor": 2
}
