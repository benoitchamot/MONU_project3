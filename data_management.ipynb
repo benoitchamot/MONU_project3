{
 "cells": [
  {
   "cell_type": "markdown",
   "metadata": {},
   "source": [
    "# Data Management\n",
    "Use this file to import and manipulate the data before saving them to the database."
   ]
  },
  {
   "cell_type": "code",
   "execution_count": 12,
   "metadata": {},
   "outputs": [],
   "source": [
    "# Dependencies\n",
    "import pandas as pd\n",
    "from pathlib import Path"
   ]
  },
  {
   "cell_type": "markdown",
   "metadata": {},
   "source": [
    "## Movies, actor and character database\n",
    "Source: https://data.world/jamesgaskin/movies"
   ]
  },
  {
   "cell_type": "code",
   "execution_count": 13,
   "metadata": {},
   "outputs": [],
   "source": [
    "movies_csv = Path('Datasets/movies.csv')\n",
    "movies_df = pd.read_csv(movies_csv)"
   ]
  },
  {
   "cell_type": "code",
   "execution_count": 14,
   "metadata": {},
   "outputs": [
    {
     "data": {
      "text/plain": [
       "Index(['movieid', 'title', 'mpaa_rating', 'budget', 'gross', 'release_date',\n",
       "       'genre', 'runtime', 'rating', 'rating_count', 'summary'],\n",
       "      dtype='object')"
      ]
     },
     "execution_count": 14,
     "metadata": {},
     "output_type": "execute_result"
    }
   ],
   "source": [
    "movies_df.columns"
   ]
  },
  {
   "cell_type": "code",
   "execution_count": 16,
   "metadata": {},
   "outputs": [],
   "source": [
    "characters_df = Path('Datasets/character.csv')\n",
    "characters_df = pd.read_csv(characters_df)"
   ]
  },
  {
   "cell_type": "code",
   "execution_count": 17,
   "metadata": {},
   "outputs": [
    {
     "data": {
      "text/plain": [
       "Index(['movieid', 'actorid', 'character_name', 'creditorder', 'pay',\n",
       "       'screentime'],\n",
       "      dtype='object')"
      ]
     },
     "execution_count": 17,
     "metadata": {},
     "output_type": "execute_result"
    }
   ],
   "source": [
    "characters_df.columns"
   ]
  },
  {
   "cell_type": "code",
   "execution_count": 18,
   "metadata": {},
   "outputs": [],
   "source": [
    "actor_df = Path('Datasets/actor.csv')\n",
    "actor_df = pd.read_csv(actor_df)"
   ]
  },
  {
   "cell_type": "code",
   "execution_count": 19,
   "metadata": {},
   "outputs": [
    {
     "data": {
      "text/html": [
       "<div>\n",
       "<style scoped>\n",
       "    .dataframe tbody tr th:only-of-type {\n",
       "        vertical-align: middle;\n",
       "    }\n",
       "\n",
       "    .dataframe tbody tr th {\n",
       "        vertical-align: top;\n",
       "    }\n",
       "\n",
       "    .dataframe thead th {\n",
       "        text-align: right;\n",
       "    }\n",
       "</style>\n",
       "<table border=\"1\" class=\"dataframe\">\n",
       "  <thead>\n",
       "    <tr style=\"text-align: right;\">\n",
       "      <th></th>\n",
       "      <th>actorid</th>\n",
       "      <th>name</th>\n",
       "      <th>date_of_birth</th>\n",
       "      <th>birth_city</th>\n",
       "      <th>birth_country</th>\n",
       "      <th>height_inches</th>\n",
       "      <th>biography</th>\n",
       "      <th>gender</th>\n",
       "      <th>ethnicity</th>\n",
       "      <th>networth</th>\n",
       "    </tr>\n",
       "  </thead>\n",
       "  <tbody>\n",
       "    <tr>\n",
       "      <th>0</th>\n",
       "      <td>2169</td>\n",
       "      <td>Aaron Eckhart</td>\n",
       "      <td>1968-03-12</td>\n",
       "      <td>Cupertino</td>\n",
       "      <td>USA</td>\n",
       "      <td>61.0</td>\n",
       "      <td>Aaron Eckhart was born on March 12, 1968 in Cu...</td>\n",
       "      <td>Male</td>\n",
       "      <td>White</td>\n",
       "      <td>16000000.0</td>\n",
       "    </tr>\n",
       "    <tr>\n",
       "      <th>1</th>\n",
       "      <td>2204</td>\n",
       "      <td>Aasif Mandvi</td>\n",
       "      <td>1966-03-05</td>\n",
       "      <td>Bombay</td>\n",
       "      <td>India</td>\n",
       "      <td>68.0</td>\n",
       "      <td>Aasif Mandvi was born on March 5, 1966 in Bomb...</td>\n",
       "      <td>Male</td>\n",
       "      <td>Indian</td>\n",
       "      <td>3000000.0</td>\n",
       "    </tr>\n",
       "    <tr>\n",
       "      <th>2</th>\n",
       "      <td>5</td>\n",
       "      <td>Abe Vigoda</td>\n",
       "      <td>1921-02-24</td>\n",
       "      <td>Brooklyn</td>\n",
       "      <td>USA</td>\n",
       "      <td>73.0</td>\n",
       "      <td>Abraham Charles Vigoda was an American actor k...</td>\n",
       "      <td>Male</td>\n",
       "      <td>White</td>\n",
       "      <td>10000000.0</td>\n",
       "    </tr>\n",
       "    <tr>\n",
       "      <th>3</th>\n",
       "      <td>1618</td>\n",
       "      <td>Abigail Breslin</td>\n",
       "      <td>1996-04-14</td>\n",
       "      <td>New York City</td>\n",
       "      <td>USA</td>\n",
       "      <td>61.0</td>\n",
       "      <td>Academy Award-nominated actress Abigail Bresli...</td>\n",
       "      <td>Female</td>\n",
       "      <td>White</td>\n",
       "      <td>8000000.0</td>\n",
       "    </tr>\n",
       "    <tr>\n",
       "      <th>4</th>\n",
       "      <td>1062</td>\n",
       "      <td>Abraham Benrubi</td>\n",
       "      <td>1969-10-04</td>\n",
       "      <td>Indianapolis</td>\n",
       "      <td>USA</td>\n",
       "      <td>79.0</td>\n",
       "      <td>Abraham Benrubi was born on October 4, 1969 in...</td>\n",
       "      <td>Male</td>\n",
       "      <td>White</td>\n",
       "      <td>12000000.0</td>\n",
       "    </tr>\n",
       "    <tr>\n",
       "      <th>...</th>\n",
       "      <td>...</td>\n",
       "      <td>...</td>\n",
       "      <td>...</td>\n",
       "      <td>...</td>\n",
       "      <td>...</td>\n",
       "      <td>...</td>\n",
       "      <td>...</td>\n",
       "      <td>...</td>\n",
       "      <td>...</td>\n",
       "      <td>...</td>\n",
       "    </tr>\n",
       "    <tr>\n",
       "      <th>2594</th>\n",
       "      <td>1337</td>\n",
       "      <td>Ziyi Zhang</td>\n",
       "      <td>1979-02-09</td>\n",
       "      <td>Beijing</td>\n",
       "      <td>China</td>\n",
       "      <td>65.0</td>\n",
       "      <td>Ziyi Zhang is a Chinese actress and model. She...</td>\n",
       "      <td>NaN</td>\n",
       "      <td>NaN</td>\n",
       "      <td>NaN</td>\n",
       "    </tr>\n",
       "    <tr>\n",
       "      <th>2595</th>\n",
       "      <td>2566</td>\n",
       "      <td>Zoe Kravitz</td>\n",
       "      <td>1988-12-01</td>\n",
       "      <td>Los Angeles</td>\n",
       "      <td>USA</td>\n",
       "      <td>62.0</td>\n",
       "      <td>Zoe Isabella Kravitz, the daughter of singer/a...</td>\n",
       "      <td>Female</td>\n",
       "      <td>NaN</td>\n",
       "      <td>NaN</td>\n",
       "    </tr>\n",
       "    <tr>\n",
       "      <th>2596</th>\n",
       "      <td>2232</td>\n",
       "      <td>Zoe Saldana</td>\n",
       "      <td>1978-06-19</td>\n",
       "      <td>Passaic</td>\n",
       "      <td>USA</td>\n",
       "      <td>66.0</td>\n",
       "      <td>Zoe Saldana was born on June 19, 1978 in Passa...</td>\n",
       "      <td>Female</td>\n",
       "      <td>NaN</td>\n",
       "      <td>35000000.0</td>\n",
       "    </tr>\n",
       "    <tr>\n",
       "      <th>2597</th>\n",
       "      <td>2534</td>\n",
       "      <td>Zoey Vargas</td>\n",
       "      <td>NaN</td>\n",
       "      <td>NaN</td>\n",
       "      <td>NaN</td>\n",
       "      <td>NaN</td>\n",
       "      <td>Zoey Vargas is an actress, known for Neighbors...</td>\n",
       "      <td>Female</td>\n",
       "      <td>NaN</td>\n",
       "      <td>NaN</td>\n",
       "    </tr>\n",
       "    <tr>\n",
       "      <th>2598</th>\n",
       "      <td>1669</td>\n",
       "      <td>Zooey Deschanel</td>\n",
       "      <td>1980-01-17</td>\n",
       "      <td>Los Angeles</td>\n",
       "      <td>USA</td>\n",
       "      <td>65.0</td>\n",
       "      <td>Zooey Deschanel was born in 1980 into a showbi...</td>\n",
       "      <td>NaN</td>\n",
       "      <td>NaN</td>\n",
       "      <td>25000000.0</td>\n",
       "    </tr>\n",
       "  </tbody>\n",
       "</table>\n",
       "<p>2599 rows × 10 columns</p>\n",
       "</div>"
      ],
      "text/plain": [
       "      actorid             name date_of_birth     birth_city birth_country  \\\n",
       "0        2169    Aaron Eckhart    1968-03-12      Cupertino           USA   \n",
       "1        2204     Aasif Mandvi    1966-03-05         Bombay         India   \n",
       "2           5       Abe Vigoda    1921-02-24       Brooklyn           USA   \n",
       "3        1618  Abigail Breslin    1996-04-14  New York City           USA   \n",
       "4        1062  Abraham Benrubi    1969-10-04   Indianapolis           USA   \n",
       "...       ...              ...           ...            ...           ...   \n",
       "2594     1337       Ziyi Zhang    1979-02-09        Beijing         China   \n",
       "2595     2566      Zoe Kravitz    1988-12-01    Los Angeles           USA   \n",
       "2596     2232      Zoe Saldana    1978-06-19        Passaic           USA   \n",
       "2597     2534      Zoey Vargas           NaN            NaN           NaN   \n",
       "2598     1669  Zooey Deschanel    1980-01-17    Los Angeles           USA   \n",
       "\n",
       "      height_inches                                          biography  \\\n",
       "0              61.0  Aaron Eckhart was born on March 12, 1968 in Cu...   \n",
       "1              68.0  Aasif Mandvi was born on March 5, 1966 in Bomb...   \n",
       "2              73.0  Abraham Charles Vigoda was an American actor k...   \n",
       "3              61.0  Academy Award-nominated actress Abigail Bresli...   \n",
       "4              79.0  Abraham Benrubi was born on October 4, 1969 in...   \n",
       "...             ...                                                ...   \n",
       "2594           65.0  Ziyi Zhang is a Chinese actress and model. She...   \n",
       "2595           62.0  Zoe Isabella Kravitz, the daughter of singer/a...   \n",
       "2596           66.0  Zoe Saldana was born on June 19, 1978 in Passa...   \n",
       "2597            NaN  Zoey Vargas is an actress, known for Neighbors...   \n",
       "2598           65.0  Zooey Deschanel was born in 1980 into a showbi...   \n",
       "\n",
       "      gender ethnicity    networth  \n",
       "0       Male     White  16000000.0  \n",
       "1       Male    Indian   3000000.0  \n",
       "2       Male     White  10000000.0  \n",
       "3     Female     White   8000000.0  \n",
       "4       Male     White  12000000.0  \n",
       "...      ...       ...         ...  \n",
       "2594     NaN       NaN         NaN  \n",
       "2595  Female       NaN         NaN  \n",
       "2596  Female       NaN  35000000.0  \n",
       "2597  Female       NaN         NaN  \n",
       "2598     NaN       NaN  25000000.0  \n",
       "\n",
       "[2599 rows x 10 columns]"
      ]
     },
     "execution_count": 19,
     "metadata": {},
     "output_type": "execute_result"
    }
   ],
   "source": [
    "actor_df"
   ]
  }
 ],
 "metadata": {
  "kernelspec": {
   "display_name": "dev",
   "language": "python",
   "name": "python3"
  },
  "language_info": {
   "codemirror_mode": {
    "name": "ipython",
    "version": 3
   },
   "file_extension": ".py",
   "mimetype": "text/x-python",
   "name": "python",
   "nbconvert_exporter": "python",
   "pygments_lexer": "ipython3",
   "version": "3.10.11"
  },
  "orig_nbformat": 4
 },
 "nbformat": 4,
 "nbformat_minor": 2
}
